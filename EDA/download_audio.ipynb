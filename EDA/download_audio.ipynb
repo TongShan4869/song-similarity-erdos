{
 "cells": [
  {
   "cell_type": "markdown",
   "metadata": {},
   "source": [
    "# Get Song Data\n",
    "- Get audio files from web urls\n",
    "- Process with librosa to get y and sr arrays\n",
    "- Add to dataframe\n",
    "- Save to file"
   ]
  },
  {
   "cell_type": "code",
   "execution_count": 7,
   "metadata": {},
   "outputs": [],
   "source": [
    "!pip install -q pydub"
   ]
  },
  {
   "cell_type": "code",
   "execution_count": 2,
   "metadata": {},
   "outputs": [
    {
     "name": "stderr",
     "output_type": "stream",
     "text": [
      "/opt/anaconda3/envs/erdos_may_2024/lib/python3.11/site-packages/pydub/utils.py:170: RuntimeWarning: Couldn't find ffmpeg or avconv - defaulting to ffmpeg, but may not work\n",
      "  warn(\"Couldn't find ffmpeg or avconv - defaulting to ffmpeg, but may not work\", RuntimeWarning)\n"
     ]
    }
   ],
   "source": [
    "import numpy as np\n",
    "import pandas as pd\n",
    "import requests, io, os, re, json, time, sys, time, base64\n",
    "from IPython.display import Audio, display\n",
    "import librosa, librosa.display\n",
    "import matplotlib.pyplot as plt\n",
    "import pickle as pkl\n",
    "import urllib.parse\n",
    "import spotipy\n",
    "from spotipy.oauth2 import SpotifyClientCredentials\n",
    "from requests.exceptions import ReadTimeout\n",
    "from tqdm import tqdm\n",
    "from tenacity import retry, wait_exponential, stop_after_attempt, RetryError, retry_if_exception_type\n",
    "from pydub import AudioSegment"
   ]
  },
  {
   "cell_type": "code",
   "execution_count": 3,
   "metadata": {},
   "outputs": [
    {
     "data": {
      "text/html": [
       "<div>\n",
       "<style scoped>\n",
       "    .dataframe tbody tr th:only-of-type {\n",
       "        vertical-align: middle;\n",
       "    }\n",
       "\n",
       "    .dataframe tbody tr th {\n",
       "        vertical-align: top;\n",
       "    }\n",
       "\n",
       "    .dataframe thead th {\n",
       "        text-align: right;\n",
       "    }\n",
       "</style>\n",
       "<table border=\"1\" class=\"dataframe\">\n",
       "  <thead>\n",
       "    <tr style=\"text-align: right;\">\n",
       "      <th></th>\n",
       "      <th>track_id</th>\n",
       "      <th>name</th>\n",
       "      <th>artist</th>\n",
       "      <th>spotify_preview_url</th>\n",
       "      <th>spotify_id</th>\n",
       "      <th>tags</th>\n",
       "      <th>genre</th>\n",
       "      <th>year</th>\n",
       "      <th>duration_ms</th>\n",
       "      <th>danceability</th>\n",
       "      <th>...</th>\n",
       "      <th>key</th>\n",
       "      <th>loudness</th>\n",
       "      <th>mode</th>\n",
       "      <th>speechiness</th>\n",
       "      <th>acousticness</th>\n",
       "      <th>instrumentalness</th>\n",
       "      <th>liveness</th>\n",
       "      <th>valence</th>\n",
       "      <th>tempo</th>\n",
       "      <th>time_signature</th>\n",
       "    </tr>\n",
       "  </thead>\n",
       "  <tbody>\n",
       "    <tr>\n",
       "      <th>0</th>\n",
       "      <td>TRIOREW128F424EAF0</td>\n",
       "      <td>Mr. Brightside</td>\n",
       "      <td>The Killers</td>\n",
       "      <td>https://p.scdn.co/mp3-preview/4d26180e6961fd46...</td>\n",
       "      <td>09ZQ5TmUG8TSL56n0knqrj</td>\n",
       "      <td>rock, alternative, indie, alternative_rock, in...</td>\n",
       "      <td>NaN</td>\n",
       "      <td>2004</td>\n",
       "      <td>222200</td>\n",
       "      <td>0.355</td>\n",
       "      <td>...</td>\n",
       "      <td>1</td>\n",
       "      <td>-4.360</td>\n",
       "      <td>1</td>\n",
       "      <td>0.0746</td>\n",
       "      <td>0.001190</td>\n",
       "      <td>0.0</td>\n",
       "      <td>0.0971</td>\n",
       "      <td>0.240</td>\n",
       "      <td>148.114</td>\n",
       "      <td>4</td>\n",
       "    </tr>\n",
       "    <tr>\n",
       "      <th>1</th>\n",
       "      <td>TRRIVDJ128F429B0E8</td>\n",
       "      <td>Wonderwall</td>\n",
       "      <td>Oasis</td>\n",
       "      <td>https://p.scdn.co/mp3-preview/d012e536916c927b...</td>\n",
       "      <td>06UfBBDISthj1ZJAtX4xjj</td>\n",
       "      <td>rock, alternative, indie, pop, alternative_roc...</td>\n",
       "      <td>NaN</td>\n",
       "      <td>2006</td>\n",
       "      <td>258613</td>\n",
       "      <td>0.409</td>\n",
       "      <td>...</td>\n",
       "      <td>2</td>\n",
       "      <td>-4.373</td>\n",
       "      <td>1</td>\n",
       "      <td>0.0336</td>\n",
       "      <td>0.000807</td>\n",
       "      <td>0.0</td>\n",
       "      <td>0.2070</td>\n",
       "      <td>0.651</td>\n",
       "      <td>174.426</td>\n",
       "      <td>4</td>\n",
       "    </tr>\n",
       "  </tbody>\n",
       "</table>\n",
       "<p>2 rows × 21 columns</p>\n",
       "</div>"
      ],
      "text/plain": [
       "             track_id            name       artist  \\\n",
       "0  TRIOREW128F424EAF0  Mr. Brightside  The Killers   \n",
       "1  TRRIVDJ128F429B0E8      Wonderwall        Oasis   \n",
       "\n",
       "                                 spotify_preview_url              spotify_id  \\\n",
       "0  https://p.scdn.co/mp3-preview/4d26180e6961fd46...  09ZQ5TmUG8TSL56n0knqrj   \n",
       "1  https://p.scdn.co/mp3-preview/d012e536916c927b...  06UfBBDISthj1ZJAtX4xjj   \n",
       "\n",
       "                                                tags genre  year  duration_ms  \\\n",
       "0  rock, alternative, indie, alternative_rock, in...   NaN  2004       222200   \n",
       "1  rock, alternative, indie, pop, alternative_roc...   NaN  2006       258613   \n",
       "\n",
       "   danceability  ...  key  loudness  mode  speechiness  acousticness  \\\n",
       "0         0.355  ...    1    -4.360     1       0.0746      0.001190   \n",
       "1         0.409  ...    2    -4.373     1       0.0336      0.000807   \n",
       "\n",
       "   instrumentalness  liveness  valence    tempo  time_signature  \n",
       "0               0.0    0.0971    0.240  148.114               4  \n",
       "1               0.0    0.2070    0.651  174.426               4  \n",
       "\n",
       "[2 rows x 21 columns]"
      ]
     },
     "execution_count": 3,
     "metadata": {},
     "output_type": "execute_result"
    }
   ],
   "source": [
    "# Get dataframe from kaggle dataset (eventually custom dataset)\n",
    "music_info_df = pd.read_csv('/Users/reggiebain/erdos/song-similarity-erdos-old/data/music_info.csv')\n",
    "music_info_df.head(2)"
   ]
  },
  {
   "cell_type": "code",
   "execution_count": 2,
   "metadata": {},
   "outputs": [],
   "source": [
    "# Get data from spotify links (from most updated DF)\n",
    "def get_raw_audio(row, which):\n",
    "    try:\n",
    "        url = row[which]\n",
    "        response = requests.get(url)\n",
    "        audio_data = io.BytesIO(response.content)\n",
    "        return audio_data\n",
    "    except requests.RequestException as e:\n",
    "        print(f\"Error downloading {url}: {e}\")"
   ]
  },
  {
   "cell_type": "code",
   "execution_count": 5,
   "metadata": {},
   "outputs": [],
   "source": [
    "test = get_raw_audio(music_info_df.iloc[0,:], 'spotify_preview_url')"
   ]
  },
  {
   "cell_type": "code",
   "execution_count": 6,
   "metadata": {},
   "outputs": [
    {
     "data": {
      "text/plain": [
       "_io.BytesIO"
      ]
     },
     "execution_count": 6,
     "metadata": {},
     "output_type": "execute_result"
    }
   ],
   "source": [
    "type(test)"
   ]
  },
  {
   "cell_type": "code",
   "execution_count": null,
   "metadata": {},
   "outputs": [],
   "source": [
    "# Get dataframe from kaggle dataset\n",
    "music_info_df = pd.read_csv('/Users/reggiebain/erdos/song-similarity-erdos-old/data/music_info.csv')\n",
    "music_info_df.head(2)"
   ]
  },
  {
   "cell_type": "markdown",
   "metadata": {},
   "source": []
  },
  {
   "cell_type": "code",
   "execution_count": 4,
   "metadata": {},
   "outputs": [],
   "source": [
    "# Define exceptions to handle with retry\n",
    "class RateLimitError(Exception):\n",
    "    pass\n",
    "\n",
    "# Function to download a single audio file\n",
    "@retry(stop=stop_after_attempt(10), wait=wait_exponential(multiplier=1, min=4, max=60), retry=retry_if_exception_type(RateLimitError))\n",
    "def download_audio(url, output_dir, file_name):\n",
    "    try:\n",
    "        response = requests.get(url, stream=True)\n",
    "        if response.status_code == 429:\n",
    "            raise RateLimitError(\"Rate limit exceeded\")\n",
    "        response.raise_for_status()  # Check if the request was successful\n",
    "        file_path = os.path.join(output_dir, file_name + '.mp3')\n",
    "        with open(file_path, 'wb') as f:\n",
    "            for chunk in response.iter_content(chunk_size=8192):\n",
    "                f.write(chunk)\n",
    "        return file_path\n",
    "    except requests.exceptions.RequestException as e:\n",
    "        print(f\"Error downloading {url}: {e}\")\n",
    "        return None\n",
    "\n",
    "# Function to download all audio files in the DataFrame\n",
    "def download_all_audio(df, url_column, output_dir, batch_size=100, start_batch=0):\n",
    "    os.makedirs(output_dir, exist_ok=True)\n",
    "    df['downloaded_file_path'] = None\n",
    "\n",
    "    num_batches = (len(df) // batch_size) + 1\n",
    "    for batch_num in range(start_batch, num_batches):\n",
    "        start_idx = batch_num * batch_size\n",
    "        end_idx = min((batch_num + 1) * batch_size, len(df))\n",
    "        batch_df = df.iloc[start_idx:end_idx]\n",
    "\n",
    "        for index, row in tqdm(batch_df.iterrows(), total=len(batch_df), desc=f\"Downloading batch {batch_num + 1}/{num_batches}\"):\n",
    "            url = row[url_column]\n",
    "            if url:\n",
    "                file_name = f\"audio_files_batch_{batch_num + 1}_{index - start_idx + 1}\"\n",
    "                file_path = download_audio(url, output_dir, file_name)\n",
    "                df.at[index, 'downloaded_file_path'] = file_path\n",
    "\n",
    "        # Save the batch DataFrame to a pickle file\n",
    "        batch_file_path = os.path.join(output_dir, f\"batch_{batch_num + 1}.pkl\")\n",
    "        batch_df.to_pickle(batch_file_path)\n",
    "\n",
    "        # Save the full DataFrame state after each batch\n",
    "        df.to_pickle(os.path.join(output_dir, \"full_dataframe.pkl\"))"
   ]
  },
  {
   "cell_type": "code",
   "execution_count": 5,
   "metadata": {},
   "outputs": [
    {
     "name": "stderr",
     "output_type": "stream",
     "text": [
      "Downloading batch 1/1:   0%|          | 0/50 [00:00<?, ?it/s]"
     ]
    },
    {
     "name": "stderr",
     "output_type": "stream",
     "text": [
      "Downloading batch 1/1: 100%|██████████| 50/50 [00:16<00:00,  3.10it/s]\n"
     ]
    }
   ],
   "source": [
    "# Load your DataFrame (example with a column 'spotify_preview_url' containing URLs to the audio files)\n",
    "df = music_info_df[:50].copy()\n",
    "\n",
    "# Specify the output directory for downloaded files\n",
    "output_dir = \"../data/audio_files/\"\n",
    "\n",
    "# Download all audio files and update the DataFrame with the file paths\n",
    "download_all_audio(df, 'spotify_preview_url', output_dir, batch_size=100)\n",
    "\n",
    "# Save the updated DataFrame\n",
    "df.to_pickle(\"../data/audio_files/path_to_updated_dataframe.pkl\")"
   ]
  },
  {
   "cell_type": "code",
   "execution_count": null,
   "metadata": {},
   "outputs": [],
   "source": [
    "# Split DataFrame into batches\n",
    "batch_size = 5000  # Adjust this as needed\n",
    "num_batches = int(np.ceil(len(df) / batch_size))\n",
    "batches = np.array_split(df, num_batches)\n",
    "\n",
    "# Process each batch and save the state\n",
    "for i, batch_df in enumerate(batches):\n",
    "    batch_file = f\"batch_{i}.csv\"\n",
    "    if not os.path.exists(batch_file):  # Check if this batch has already been processed\n",
    "        process_batch(batch_df, i)\n",
    "    else:\n",
    "        print(f\"Batch {i} already processed. Skipping...\")\n",
    "\n",
    "# Combine all batches into a single DataFrame (if needed)\n",
    "final_df = pd.concat([pd.read_csv(f\"batch_{i}.csv\") for i in range(num_batches)])\n",
    "final_df.to_csv(\"final_results.csv\", index=False)"
   ]
  }
 ],
 "metadata": {
  "kernelspec": {
   "display_name": "erdos_may_2024",
   "language": "python",
   "name": "python3"
  },
  "language_info": {
   "codemirror_mode": {
    "name": "ipython",
    "version": 3
   },
   "file_extension": ".py",
   "mimetype": "text/x-python",
   "name": "python",
   "nbconvert_exporter": "python",
   "pygments_lexer": "ipython3",
   "version": "3.11.9"
  }
 },
 "nbformat": 4,
 "nbformat_minor": 2
}
