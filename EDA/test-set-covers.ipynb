{
 "cells": [
  {
   "cell_type": "markdown",
   "metadata": {},
   "source": [
    "# Test Set - Cover Songs\n",
    "- From cover song sets from kaggle: https://www.kaggle.com/datasets/arpanpathak/original-and-cover-song-pairs/data \n",
    "- Contains 80 pairs of songs and a corresponding cover song.\n",
    "- This notebook parses this dataset, gets mel spectograms from each song, and creates triplets with a correponding spectrogram from the cover as well as the spectrogram from a random different song.\n",
    "- It outputs a pickle file that can be read into another notebook for fine tuning called /data/test_set_covers.pkl"
   ]
  },
  {
   "cell_type": "code",
   "execution_count": 4,
   "metadata": {},
   "outputs": [],
   "source": [
    "import os\n",
    "import random\n",
    "import librosa\n",
    "import pandas as pd\n",
    "import numpy as np\n",
    "import pickle as pkl\n",
    "from tqdm import tqdm\n",
    "\n",
    "# get spectrogram data\n",
    "def load_mel_spectrogram(file_path, sr=22050, n_mels=128):\n",
    "    y, sr = librosa.load(file_path, sr=sr)\n",
    "    mel_spectrogram = librosa.feature.melspectrogram(y=y, sr=sr, n_mels=n_mels)\n",
    "    mel_spectrogram_db = librosa.power_to_db(mel_spectrogram, ref=np.max)\n",
    "    return mel_spectrogram_db\n",
    "\n",
    "# select random other song's spectrogram\n",
    "def get_random_negative(exclude_index, file_paths):\n",
    "    negative_index = random.choice([i for i in range(len(file_paths)) if i != exclude_index])\n",
    "    negative_file = file_paths[negative_index]\n",
    "    negative_spectrogram = load_mel_spectrogram(negative_file)\n",
    "    return negative_spectrogram\n",
    "\n",
    "# use file names to get song info\n",
    "def extract_metadata(file_name):\n",
    "    name, _ = os.path.splitext(file_name)\n",
    "    artist, album, song = name.split('+')\n",
    "    return artist, album, song"
   ]
  },
  {
   "cell_type": "code",
   "execution_count": 9,
   "metadata": {},
   "outputs": [],
   "source": [
    "# Go through files to get all of the songs, similar to how we did lastfm\n",
    "def process_audio_files(base_dir):\n",
    "    data = []\n",
    "    song_files = []\n",
    "\n",
    "    for folder_name in os.listdir(base_dir):\n",
    "        folder_path = os.path.join(base_dir, folder_name)\n",
    "        if os.path.isdir(folder_path):\n",
    "            files = [os.path.join(folder_path, f) for f in os.listdir(folder_path) if f.endswith('.mp3')]\n",
    "            song_files.extend(files)\n",
    "\n",
    "    for folder_name in tqdm(os.listdir(base_dir), desc=\"Processing folders\"):\n",
    "        folder_path = os.path.join(base_dir, folder_name)\n",
    "        if os.path.isdir(folder_path):\n",
    "            files = [f for f in os.listdir(folder_path) if f.endswith('.mp3')]\n",
    "            \n",
    "            if len(files) == 2:\n",
    "                song_title = folder_name\n",
    "                anchor_file = os.path.join(folder_path, files[0])\n",
    "                positive_file = os.path.join(folder_path, files[1])\n",
    "                \n",
    "                anchor_spectrogram = load_mel_spectrogram(anchor_file)\n",
    "                positive_spectrogram = load_mel_spectrogram(positive_file)\n",
    "                \n",
    "                anchor_index = song_files.index(anchor_file)\n",
    "                negative_spectrogram = get_random_negative(anchor_index, song_files)\n",
    "                \n",
    "                artist, album, song = extract_metadata(files[0])\n",
    "\n",
    "                data.append({\n",
    "                    'song_title': song_title,\n",
    "                    'artist': artist,\n",
    "                    'album': album,\n",
    "                    'song': song,\n",
    "                    'anchors': anchor_spectrogram,\n",
    "                    'positives': positive_spectrogram,\n",
    "                    'negatives': negative_spectrogram\n",
    "                })\n",
    "\n",
    "    df = pd.DataFrame(data)\n",
    "    return df"
   ]
  },
  {
   "cell_type": "code",
   "execution_count": 10,
   "metadata": {},
   "outputs": [
    {
     "name": "stderr",
     "output_type": "stream",
     "text": [
      "Processing folders: 100%|██████████| 83/83 [03:11<00:00,  2.31s/it]\n"
     ]
    },
    {
     "data": {
      "text/html": [
       "<div>\n",
       "<style scoped>\n",
       "    .dataframe tbody tr th:only-of-type {\n",
       "        vertical-align: middle;\n",
       "    }\n",
       "\n",
       "    .dataframe tbody tr th {\n",
       "        vertical-align: top;\n",
       "    }\n",
       "\n",
       "    .dataframe thead th {\n",
       "        text-align: right;\n",
       "    }\n",
       "</style>\n",
       "<table border=\"1\" class=\"dataframe\">\n",
       "  <thead>\n",
       "    <tr style=\"text-align: right;\">\n",
       "      <th></th>\n",
       "      <th>song_title</th>\n",
       "      <th>artist</th>\n",
       "      <th>album</th>\n",
       "      <th>song</th>\n",
       "      <th>anchors</th>\n",
       "      <th>positives</th>\n",
       "      <th>negatives</th>\n",
       "    </tr>\n",
       "  </thead>\n",
       "  <tbody>\n",
       "    <tr>\n",
       "      <th>0</th>\n",
       "      <td>Claudette</td>\n",
       "      <td>everly_brothers</td>\n",
       "      <td>The_Fabulous_Style_of</td>\n",
       "      <td>01-Claudette</td>\n",
       "      <td>[[-80.0, -80.0, -80.0, -80.0, -80.0, -80.0, -8...</td>\n",
       "      <td>[[-80.0, -80.0, -80.0, -61.775627, -48.010227,...</td>\n",
       "      <td>[[-80.0, -80.0, -80.0, -53.419292, -39.97673, ...</td>\n",
       "    </tr>\n",
       "    <tr>\n",
       "      <th>1</th>\n",
       "      <td>I_Don_t_Want_To_Miss_A_Thing</td>\n",
       "      <td>aerosmith</td>\n",
       "      <td>Armageddon_Original_Soundtrack_</td>\n",
       "      <td>01-I_Don_t_Want_To_Miss_A_Thing</td>\n",
       "      <td>[[-80.0, -80.0, -80.0, -79.25159, -56.510735, ...</td>\n",
       "      <td>[[-80.0, -80.0, -80.0, -80.0, -80.0, -80.0, -8...</td>\n",
       "      <td>[[-80.0, -80.0, -80.0, -58.83052, -51.61307, -...</td>\n",
       "    </tr>\n",
       "  </tbody>\n",
       "</table>\n",
       "</div>"
      ],
      "text/plain": [
       "                     song_title           artist  \\\n",
       "0                     Claudette  everly_brothers   \n",
       "1  I_Don_t_Want_To_Miss_A_Thing        aerosmith   \n",
       "\n",
       "                             album                             song  \\\n",
       "0            The_Fabulous_Style_of                     01-Claudette   \n",
       "1  Armageddon_Original_Soundtrack_  01-I_Don_t_Want_To_Miss_A_Thing   \n",
       "\n",
       "                                             anchors  \\\n",
       "0  [[-80.0, -80.0, -80.0, -80.0, -80.0, -80.0, -8...   \n",
       "1  [[-80.0, -80.0, -80.0, -79.25159, -56.510735, ...   \n",
       "\n",
       "                                           positives  \\\n",
       "0  [[-80.0, -80.0, -80.0, -61.775627, -48.010227,...   \n",
       "1  [[-80.0, -80.0, -80.0, -80.0, -80.0, -80.0, -8...   \n",
       "\n",
       "                                           negatives  \n",
       "0  [[-80.0, -80.0, -80.0, -53.419292, -39.97673, ...  \n",
       "1  [[-80.0, -80.0, -80.0, -58.83052, -51.61307, -...  "
      ]
     },
     "execution_count": 10,
     "metadata": {},
     "output_type": "execute_result"
    }
   ],
   "source": [
    "base_dir = '/Users/reggiebain/erdos/song-similarity-erdos-old/data/coversongs/covers32k'\n",
    "df = process_audio_files(base_dir)\n",
    "df.head(2)"
   ]
  },
  {
   "cell_type": "code",
   "execution_count": 11,
   "metadata": {},
   "outputs": [],
   "source": [
    "# save to pickle\n",
    "df.to_pickle('../data/test_set_covers.pkl')"
   ]
  },
  {
   "cell_type": "markdown",
   "metadata": {},
   "source": [
    "#### Create Test Set\n",
    "- output anchors, positives, negatives, just the spectrograms"
   ]
  },
  {
   "cell_type": "code",
   "execution_count": null,
   "metadata": {},
   "outputs": [],
   "source": [
    "output_df = df[['anchor', 'positive', 'negative']]\n",
    "output_df"
   ]
  }
 ],
 "metadata": {
  "kernelspec": {
   "display_name": "erdos_may_2024",
   "language": "python",
   "name": "python3"
  },
  "language_info": {
   "codemirror_mode": {
    "name": "ipython",
    "version": 3
   },
   "file_extension": ".py",
   "mimetype": "text/x-python",
   "name": "python",
   "nbconvert_exporter": "python",
   "pygments_lexer": "ipython3",
   "version": "3.11.9"
  }
 },
 "nbformat": 4,
 "nbformat_minor": 2
}
