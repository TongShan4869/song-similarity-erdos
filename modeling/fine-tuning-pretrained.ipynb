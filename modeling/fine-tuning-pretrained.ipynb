{
 "cells": [
  {
   "cell_type": "markdown",
   "metadata": {},
   "source": [
    "# Fine Tuning Resnet\n",
    "- Prepare data for training/validation. Create dataloader\n",
    "- Load in resnet model\n",
    "- Create architecture for fine tuning including pytorch/tensorflow boilerplate"
   ]
  },
  {
   "cell_type": "code",
   "execution_count": null,
   "metadata": {},
   "outputs": [],
   "source": []
  },
  {
   "cell_type": "code",
   "execution_count": 130,
   "metadata": {},
   "outputs": [],
   "source": [
    "import pandas as pd\n",
    "import numpy as np\n",
    "import librosa\n",
    "import librosa.display\n",
    "from tqdm import tqdm\n",
    "import matplotlib.pyplot as plt\n",
    "import os\n",
    "from dotenv import dotenv_values \n",
    "import spotipy\n",
    "from spotipy.oauth2 import SpotifyClientCredentials\n",
    "import pickle as pkl\n",
    "\n",
    "import torch\n",
    "import torch.nn as nn\n",
    "import torch.nn.functional as F\n",
    "import torchvision.models as models\n",
    "from torch.utils.data import DataLoader, Dataset\n",
    "\n",
    "from scipy.spatial.distance import euclidean\n",
    "from sklearn.model_selection import train_test_split\n",
    "from transformers import Wav2Vec2Model\n",
    "\n",
    "#from torchvggish import VGGish\n",
    "#from torchvggish.vggish import load_weights\n",
    "\n",
    "import torch.optim as optim\n",
    "from pydub import AudioSegment\n",
    "import io"
   ]
  },
  {
   "cell_type": "markdown",
   "metadata": {},
   "source": [
    "## Data Preparation\n",
    "- Import data\n",
    "- Calculate mel specs\n",
    "- Create data set class for spectrograms/chromagrams/tempograms"
   ]
  },
  {
   "cell_type": "code",
   "execution_count": 9,
   "metadata": {},
   "outputs": [
    {
     "data": {
      "text/html": [
       "<div>\n",
       "<style scoped>\n",
       "    .dataframe tbody tr th:only-of-type {\n",
       "        vertical-align: middle;\n",
       "    }\n",
       "\n",
       "    .dataframe tbody tr th {\n",
       "        vertical-align: top;\n",
       "    }\n",
       "\n",
       "    .dataframe thead th {\n",
       "        text-align: right;\n",
       "    }\n",
       "</style>\n",
       "<table border=\"1\" class=\"dataframe\">\n",
       "  <thead>\n",
       "    <tr style=\"text-align: right;\">\n",
       "      <th></th>\n",
       "      <th>track_id</th>\n",
       "      <th>name</th>\n",
       "      <th>artist</th>\n",
       "      <th>spotify_preview_url</th>\n",
       "      <th>spotify_id</th>\n",
       "      <th>tags</th>\n",
       "      <th>genre</th>\n",
       "      <th>year</th>\n",
       "      <th>duration_ms</th>\n",
       "      <th>danceability</th>\n",
       "      <th>...</th>\n",
       "      <th>instrumentalness</th>\n",
       "      <th>liveness</th>\n",
       "      <th>valence</th>\n",
       "      <th>tempo</th>\n",
       "      <th>time_signature</th>\n",
       "      <th>processed_audio</th>\n",
       "      <th>augmented_audio</th>\n",
       "      <th>diff_processed_audio</th>\n",
       "      <th>diff_artist</th>\n",
       "      <th>diff_name</th>\n",
       "    </tr>\n",
       "  </thead>\n",
       "  <tbody>\n",
       "    <tr>\n",
       "      <th>10000</th>\n",
       "      <td>TRFNPIK128F9317759</td>\n",
       "      <td>Limelight</td>\n",
       "      <td>Rush</td>\n",
       "      <td>https://p.scdn.co/mp3-preview/6b5b71fc9762eda2...</td>\n",
       "      <td>0dnz7bSs3txd9nGY9e3Mlf</td>\n",
       "      <td>classic_rock, hard_rock, 80s, progressive_rock</td>\n",
       "      <td>Rock</td>\n",
       "      <td>2006</td>\n",
       "      <td>260066</td>\n",
       "      <td>0.579</td>\n",
       "      <td>...</td>\n",
       "      <td>0.004010</td>\n",
       "      <td>0.286</td>\n",
       "      <td>0.795</td>\n",
       "      <td>131.097</td>\n",
       "      <td>3</td>\n",
       "      <td>([-0.1274366, -0.21459332, -0.023305148, -0.08...</td>\n",
       "      <td>([-0.18257691, -0.3222155, -0.12718868, -0.017...</td>\n",
       "      <td>([-0.09010448, -0.13527939, -0.14203383, -0.09...</td>\n",
       "      <td>Mr. Big</td>\n",
       "      <td>To Be With You</td>\n",
       "    </tr>\n",
       "    <tr>\n",
       "      <th>10001</th>\n",
       "      <td>TRWPWPE128F92CB675</td>\n",
       "      <td>Friends Will Be Friends</td>\n",
       "      <td>Queen</td>\n",
       "      <td>https://p.scdn.co/mp3-preview/771fbc667792ab31...</td>\n",
       "      <td>0nvIhBnscX9w7P2yrqxB6K</td>\n",
       "      <td>rock, classic_rock, hard_rock, 80s, british</td>\n",
       "      <td>NaN</td>\n",
       "      <td>1986</td>\n",
       "      <td>247840</td>\n",
       "      <td>0.438</td>\n",
       "      <td>...</td>\n",
       "      <td>0.000006</td>\n",
       "      <td>0.345</td>\n",
       "      <td>0.347</td>\n",
       "      <td>75.054</td>\n",
       "      <td>3</td>\n",
       "      <td>([0.09164546, 0.12546735, 0.06996889, 0.048958...</td>\n",
       "      <td>([0.080816284, 0.06832799, 0.08953604, 0.08095...</td>\n",
       "      <td>([-0.059521385, -0.09814703, 0.0005738288, 0.0...</td>\n",
       "      <td>Eric Clapton</td>\n",
       "      <td>Alberta</td>\n",
       "    </tr>\n",
       "  </tbody>\n",
       "</table>\n",
       "<p>2 rows × 26 columns</p>\n",
       "</div>"
      ],
      "text/plain": [
       "                 track_id                     name artist  \\\n",
       "10000  TRFNPIK128F9317759                Limelight   Rush   \n",
       "10001  TRWPWPE128F92CB675  Friends Will Be Friends  Queen   \n",
       "\n",
       "                                     spotify_preview_url  \\\n",
       "10000  https://p.scdn.co/mp3-preview/6b5b71fc9762eda2...   \n",
       "10001  https://p.scdn.co/mp3-preview/771fbc667792ab31...   \n",
       "\n",
       "                   spotify_id                                            tags  \\\n",
       "10000  0dnz7bSs3txd9nGY9e3Mlf  classic_rock, hard_rock, 80s, progressive_rock   \n",
       "10001  0nvIhBnscX9w7P2yrqxB6K     rock, classic_rock, hard_rock, 80s, british   \n",
       "\n",
       "      genre  year  duration_ms  danceability  ...  instrumentalness  liveness  \\\n",
       "10000  Rock  2006       260066         0.579  ...          0.004010     0.286   \n",
       "10001   NaN  1986       247840         0.438  ...          0.000006     0.345   \n",
       "\n",
       "       valence    tempo  time_signature  \\\n",
       "10000    0.795  131.097               3   \n",
       "10001    0.347   75.054               3   \n",
       "\n",
       "                                         processed_audio  \\\n",
       "10000  ([-0.1274366, -0.21459332, -0.023305148, -0.08...   \n",
       "10001  ([0.09164546, 0.12546735, 0.06996889, 0.048958...   \n",
       "\n",
       "                                         augmented_audio  \\\n",
       "10000  ([-0.18257691, -0.3222155, -0.12718868, -0.017...   \n",
       "10001  ([0.080816284, 0.06832799, 0.08953604, 0.08095...   \n",
       "\n",
       "                                    diff_processed_audio   diff_artist  \\\n",
       "10000  ([-0.09010448, -0.13527939, -0.14203383, -0.09...       Mr. Big   \n",
       "10001  ([-0.059521385, -0.09814703, 0.0005738288, 0.0...  Eric Clapton   \n",
       "\n",
       "            diff_name  \n",
       "10000  To Be With You  \n",
       "10001         Alberta  \n",
       "\n",
       "[2 rows x 26 columns]"
      ]
     },
     "execution_count": 9,
     "metadata": {},
     "output_type": "execute_result"
    }
   ],
   "source": [
    "explore_df = pd.read_pickle('/Users/reggiebain/erdos/song-similarity-erdos-old/data/augmented_audio/batch_1_augmented.pkl')\n",
    "explore_df.head(2)"
   ]
  },
  {
   "cell_type": "code",
   "execution_count": 52,
   "metadata": {},
   "outputs": [
    {
     "data": {
      "text/plain": [
       "array([ 0.09164546,  0.12546735,  0.06996889, ..., -0.2099937 ,\n",
       "       -0.18352029, -0.16729411], dtype=float32)"
      ]
     },
     "execution_count": 52,
     "metadata": {},
     "output_type": "execute_result"
    }
   ],
   "source": [
    "explore_df['processed_audio'].values[1][0]\n",
    "#anchor = torch.tensor(self.anchors[idx], dtype=torch.float32).unsqueeze(0)"
   ]
  },
  {
   "cell_type": "code",
   "execution_count": 21,
   "metadata": {},
   "outputs": [
    {
     "data": {
      "text/html": [
       "<div>\n",
       "<style scoped>\n",
       "    .dataframe tbody tr th:only-of-type {\n",
       "        vertical-align: middle;\n",
       "    }\n",
       "\n",
       "    .dataframe tbody tr th {\n",
       "        vertical-align: top;\n",
       "    }\n",
       "\n",
       "    .dataframe thead th {\n",
       "        text-align: right;\n",
       "    }\n",
       "</style>\n",
       "<table border=\"1\" class=\"dataframe\">\n",
       "  <thead>\n",
       "    <tr style=\"text-align: right;\">\n",
       "      <th></th>\n",
       "      <th>name</th>\n",
       "      <th>artist</th>\n",
       "      <th>processed_audio</th>\n",
       "      <th>augmented_audio</th>\n",
       "      <th>diff_name</th>\n",
       "      <th>diff_artist</th>\n",
       "      <th>diff_processed_audio</th>\n",
       "    </tr>\n",
       "  </thead>\n",
       "  <tbody>\n",
       "    <tr>\n",
       "      <th>0</th>\n",
       "      <td>Mr. Brightside</td>\n",
       "      <td>The Killers</td>\n",
       "      <td>([-0.2620229, -0.35404703, -0.3487168, -0.3190...</td>\n",
       "      <td>([-0.3509405, -0.5323735, -0.2839542, -0.24393...</td>\n",
       "      <td>Numb</td>\n",
       "      <td>Linkin Park</td>\n",
       "      <td>([0.11908126, 0.2909583, 0.30372348, 0.1632980...</td>\n",
       "    </tr>\n",
       "    <tr>\n",
       "      <th>1</th>\n",
       "      <td>Wonderwall</td>\n",
       "      <td>Oasis</td>\n",
       "      <td>([-0.061054245, -0.17240259, -0.19763069, -0.1...</td>\n",
       "      <td>([0.06728606, -0.09246577, -0.3403954, -0.1606...</td>\n",
       "      <td>Black Hole Sun</td>\n",
       "      <td>Soundgarden</td>\n",
       "      <td>([0.05073167, 0.06983984, -0.050674707, 0.0196...</td>\n",
       "    </tr>\n",
       "  </tbody>\n",
       "</table>\n",
       "</div>"
      ],
      "text/plain": [
       "             name       artist  \\\n",
       "0  Mr. Brightside  The Killers   \n",
       "1      Wonderwall        Oasis   \n",
       "\n",
       "                                     processed_audio  \\\n",
       "0  ([-0.2620229, -0.35404703, -0.3487168, -0.3190...   \n",
       "1  ([-0.061054245, -0.17240259, -0.19763069, -0.1...   \n",
       "\n",
       "                                     augmented_audio       diff_name  \\\n",
       "0  ([-0.3509405, -0.5323735, -0.2839542, -0.24393...            Numb   \n",
       "1  ([0.06728606, -0.09246577, -0.3403954, -0.1606...  Black Hole Sun   \n",
       "\n",
       "   diff_artist                               diff_processed_audio  \n",
       "0  Linkin Park  ([0.11908126, 0.2909583, 0.30372348, 0.1632980...  \n",
       "1  Soundgarden  ([0.05073167, 0.06983984, -0.050674707, 0.0196...  "
      ]
     },
     "execution_count": 21,
     "metadata": {},
     "output_type": "execute_result"
    }
   ],
   "source": [
    "# Import data\n",
    "working_df = pd.read_hdf('../working_df.h5', key='df')\n",
    "working_df.head(2)"
   ]
  },
  {
   "cell_type": "code",
   "execution_count": 22,
   "metadata": {},
   "outputs": [],
   "source": [
    "def make_mel_spectrogram(y, sr, n_mels=128, fmax=8000):\n",
    "    S = librosa.feature.melspectrogram(y=y, sr=sr, n_mels=n_mels, fmax=fmax)\n",
    "    S_dB = librosa.power_to_db(S, ref=np.max)\n",
    "    return S_dB"
   ]
  },
  {
   "cell_type": "code",
   "execution_count": 23,
   "metadata": {},
   "outputs": [
    {
     "name": "stderr",
     "output_type": "stream",
     "text": [
      "Making Anchor Mel Spectrograms...: 100%|██████████| 100/100 [00:04<00:00, 20.42it/s]\n",
      "Making Similar Mel Spectrograms...: 100%|██████████| 100/100 [00:01<00:00, 52.42it/s]\n",
      "Making Differet Mel Spectrograms...: 100%|██████████| 100/100 [00:02<00:00, 48.76it/s]\n"
     ]
    },
    {
     "data": {
      "text/html": [
       "<div>\n",
       "<style scoped>\n",
       "    .dataframe tbody tr th:only-of-type {\n",
       "        vertical-align: middle;\n",
       "    }\n",
       "\n",
       "    .dataframe tbody tr th {\n",
       "        vertical-align: top;\n",
       "    }\n",
       "\n",
       "    .dataframe thead th {\n",
       "        text-align: right;\n",
       "    }\n",
       "</style>\n",
       "<table border=\"1\" class=\"dataframe\">\n",
       "  <thead>\n",
       "    <tr style=\"text-align: right;\">\n",
       "      <th></th>\n",
       "      <th>anchors</th>\n",
       "      <th>positives</th>\n",
       "      <th>negatives</th>\n",
       "    </tr>\n",
       "  </thead>\n",
       "  <tbody>\n",
       "    <tr>\n",
       "      <th>0</th>\n",
       "      <td>[[-26.521116, -30.167957, -26.034828, -18.4934...</td>\n",
       "      <td>[[-25.416304, -29.527111, -26.216137, -18.9720...</td>\n",
       "      <td>[[-33.491425, -34.488136, -31.95215, -30.40233...</td>\n",
       "    </tr>\n",
       "    <tr>\n",
       "      <th>1</th>\n",
       "      <td>[[-35.544044, -34.28563, -30.778538, -18.86684...</td>\n",
       "      <td>[[-37.14359, -31.460531, -29.60542, -19.17395,...</td>\n",
       "      <td>[[-28.93778, -29.16246, -31.800354, -33.152977...</td>\n",
       "    </tr>\n",
       "  </tbody>\n",
       "</table>\n",
       "</div>"
      ],
      "text/plain": [
       "                                             anchors  \\\n",
       "0  [[-26.521116, -30.167957, -26.034828, -18.4934...   \n",
       "1  [[-35.544044, -34.28563, -30.778538, -18.86684...   \n",
       "\n",
       "                                           positives  \\\n",
       "0  [[-25.416304, -29.527111, -26.216137, -18.9720...   \n",
       "1  [[-37.14359, -31.460531, -29.60542, -19.17395,...   \n",
       "\n",
       "                                           negatives  \n",
       "0  [[-33.491425, -34.488136, -31.95215, -30.40233...  \n",
       "1  [[-28.93778, -29.16246, -31.800354, -33.152977...  "
      ]
     },
     "execution_count": 23,
     "metadata": {},
     "output_type": "execute_result"
    }
   ],
   "source": [
    "# Apply the function to the DataFrame\n",
    "tqdm.pandas(desc=f\"Making Anchor Mel Spectrograms...\")\n",
    "working_df['anchors'] = working_df['processed_audio'].progress_apply(lambda row: make_mel_spectrogram(row[0], row[1]))\n",
    "tqdm.pandas(desc=f\"Making Similar Mel Spectrograms...\")\n",
    "working_df['positives'] = working_df['augmented_audio'].progress_apply(lambda row: make_mel_spectrogram(row[0], row[1]))\n",
    "tqdm.pandas(desc=f\"Making Differet Mel Spectrograms...\")\n",
    "working_df['negatives'] = working_df['diff_processed_audio'].progress_apply(lambda row: make_mel_spectrogram(row[0], row[1]))\n",
    "\n",
    "# Create new dataframe\n",
    "dataset_df = working_df[['anchors', 'positives', 'negatives']]\n",
    "dataset_df.head(2)"
   ]
  },
  {
   "cell_type": "code",
   "execution_count": 5,
   "metadata": {},
   "outputs": [
    {
     "data": {
      "image/png": "[encoded data removed]",
      "text/plain": [
       "<Figure size 1000x400 with 2 Axes>"
      ]
     },
     "metadata": {},
     "output_type": "display_data"
    }
   ],
   "source": [
    "# Plot sample just to check\n",
    "test_mel_spec = dataset_df['anchors'].iloc[0]\n",
    "\n",
    "plt.figure(figsize=(10, 4))\n",
    "librosa.display.specshow(test_mel_spec, sr=22050, x_axis='time', y_axis='mel', fmax=8000)\n",
    "plt.colorbar(format='%+2.0f dB')\n",
    "plt.title('Mel Spectrogram')\n",
    "plt.tight_layout()\n",
    "plt.show()"
   ]
  },
  {
   "cell_type": "markdown",
   "metadata": {},
   "source": [
    "#### Create Dataset Class"
   ]
  },
  {
   "cell_type": "code",
   "execution_count": 131,
   "metadata": {},
   "outputs": [],
   "source": [
    "# Dataset class that does include batching\n",
    "class SpectrogramDataset(Dataset):\n",
    "\n",
    "    def __init__(self, file_paths, sr=22050, n_mels=128):\n",
    "        self.file_paths = file_paths\n",
    "        self.current_file_index = 0\n",
    "\n",
    "        self.sr = sr\n",
    "        self.n_mels = n_mels\n",
    "        self.load_current_file()      \n",
    "    \n",
    "    def load_current_file(self):\n",
    "        # Load data from the current .pkl file\n",
    "        self.current_data = pd.read_pickle(self.file_paths[self.current_file_index])\n",
    "        self.current_anchors = self.current_data['processed_audio'].values\n",
    "        self.current_positives = self.current_data['augmented_audio'].values\n",
    "        self.current_negatives = self.current_data['diff_processed_audio'].values\n",
    "        self.current_file_length = len(self.current_anchors)\n",
    "        self.current_file_index += 1\n",
    "    \n",
    "    def __len__(self):\n",
    "        total_length = sum(pd.read_pickle(file).shape[0] for file in self.file_paths)\n",
    "        return total_length\n",
    "    \n",
    "    def __getitem__(self, idx):\n",
    "        while idx >= self.current_file_length:\n",
    "            idx -= self.current_file_length\n",
    "            if self.current_file_index < len(self.file_paths):\n",
    "                self.load_current_file()\n",
    "            else:\n",
    "                raise IndexError(\"Index out of range\")\n",
    "\n",
    "        # Load audio data and select idx'th example and get [0] to get audio from (y, sr) tuple\n",
    "        anchor = self.current_anchors[idx][0]\n",
    "        positive = self.current_positives[idx][0]\n",
    "        negative = self.current_negatives[idx][0]\n",
    "\n",
    "        # Compute mel spectrograms\n",
    "        anchor_mel = self._process_audio(anchor)\n",
    "        positive_mel = self._process_audio(positive)\n",
    "        negative_mel = self._process_audio(negative)\n",
    "\n",
    "        return anchor_mel, positive_mel, negative_mel\n",
    "    \n",
    "    # Convert raw audio to mel spectrogram\n",
    "    def _process_audio(self, y):\n",
    "        mel_spectrogram = librosa.feature.melspectrogram(y=y, sr=self.sr, n_mels=self.n_mels)\n",
    "        mel_spectrogram_db = librosa.power_to_db(mel_spectrogram, ref=np.max)\n",
    "        mel_spectrogram_db = torch.tensor(mel_spectrogram_db, dtype=torch.float32).unsqueeze(0)\n",
    "        return mel_spectrogram_db"
   ]
  },
  {
   "cell_type": "markdown",
   "metadata": {},
   "source": [
    "### Split Data and Instantiate Dataset Class"
   ]
  },
  {
   "cell_type": "code",
   "execution_count": 157,
   "metadata": {},
   "outputs": [],
   "source": [
    "# Split data into training and validation sets\n",
    "#anchors_train, anchors_val, positives_train, positives_val, negatives_train, negatives_val = train_test_split(\n",
    "#    anchors, positives, negatives, test_size=0.2, random_state=123)\n",
    "\n",
    "file_paths = [f'../data/augmented_audio/batch_{i}_augmented.pkl' for i in range(1,11,1)]\n",
    "\n",
    "# Split the files instaed of actual data into training/val\n",
    "train_files, val_files = train_test_split(file_paths, test_size=0.2, random_state=123)\n",
    "# Instantiate Dataset Classes\n",
    "\n",
    "train_dataset = SpectrogramDataset(train_files)\n",
    "val_dataset = SpectrogramDataset(val_files)\n",
    "#train_dataset = SpectrogramDataset(anchors_train, positives_train, negatives_train)\n",
    "#val_dataset = SpectrogramDataset(anchors_val, positives_val, negatives_val)\n",
    "\n",
    "# Declare dataloaders\n",
    "train_loader = DataLoader(train_dataset, batch_size=64, shuffle=True)\n",
    "val_loader = DataLoader(val_dataset, batch_size=64, shuffle=False)"
   ]
  },
  {
   "cell_type": "code",
   "execution_count": 171,
   "metadata": {},
   "outputs": [
    {
     "name": "stdout",
     "output_type": "stream",
     "text": [
      "Batch 2: 64 samples\n",
      "Batch 2 Baseline loss = 0.9963046312332153\n",
      "Batch 2 Model Loss = 3.6135096549987793\n",
      "Basline Loss Over Length: 63.76349639892578\n",
      "Loss Over Length: 0.056461088359355927\n"
     ]
    }
   ],
   "source": [
    "criterion = nn.TripletMarginLoss(margin=1.0, p=2, eps=1e-7)\n",
    "\n",
    "running_baseline_loss = 0\n",
    "for i, (anchors, positives, negatives) in enumerate(val_loader):\n",
    "    if i == 1:\n",
    "        print(f\"Batch {i+1}: {anchors.size(0)} samples\")\n",
    "\n",
    "            \n",
    "        running_loss = criterion(model(anchors), model(positives), model(negatives)).item()*anchors.size(0)\n",
    "\n",
    "        #no_model_embedding = mel_tensor.flatten().unsqueeze(0)\n",
    "        # Normalize so that we just compare patterns not magnitudes\n",
    "        #no_model_embedding = F.normalize(anchors, p=2, dim=1)\n",
    "\n",
    "        running_baseline_loss += criterion(F.normalize(anchors), F.normalize(positives), F.normalize(negatives)).item()\n",
    "        print(f\"Batch {i+1} Baseline loss = {running_baseline_loss}\")\n",
    "        print(f\"Batch {i+1} Model Loss = {running_loss}\")\n",
    "        break\n",
    "    \n",
    "print(f'Basline Loss Over Length: {(2000*64)*running_baseline_loss / len(val_loader.dataset)}')\n",
    "print(f\"Loss Over Length: {(2000/64)*running_loss/len(val_loader.dataset)}\")    "
   ]
  },
  {
   "cell_type": "code",
   "execution_count": 168,
   "metadata": {},
   "outputs": [
    {
     "data": {
      "text/plain": [
       "1.7644090112298727"
      ]
     },
     "execution_count": 168,
     "metadata": {},
     "output_type": "execute_result"
    }
   ],
   "source": [
    "running_loss*(2000/64)/64"
   ]
  },
  {
   "cell_type": "code",
   "execution_count": 169,
   "metadata": {},
   "outputs": [
    {
     "data": {
      "text/plain": [
       "0.4864768707193434"
      ]
     },
     "execution_count": 169,
     "metadata": {},
     "output_type": "execute_result"
    }
   ],
   "source": [
    "running_baseline_loss*(2000/64)/64"
   ]
  },
  {
   "cell_type": "code",
   "execution_count": null,
   "metadata": {},
   "outputs": [],
   "source": [
    "anchors, positives, negatives = batches[0]\n",
    "anchor_embeddings = model(anchors)\n",
    "positive_embeddings = model(positives)\n",
    "negative_embeddings = model(negatives)\n",
    "    \n",
    "running_loss = criterion(anchor_embeddings, positive_embeddings, negative_embeddings).item()\n",
    "running_baseline_loss += criterion(anchors, positives, negatives).item()\n",
    "print(f\"Batch {i+1} Baseline loss = {running_baseline_loss}\")\n",
    "print(f\"Batch {i+1} Model Loss = {running_loss}\")"
   ]
  },
  {
   "cell_type": "markdown",
   "metadata": {},
   "source": [
    "### Delcaring the Model\n",
    "- Define architecture: default resnet with adjusted first conv layer and final FC layer to set num params\n",
    "- Choose loss function, optimizer, device, etc."
   ]
  },
  {
   "cell_type": "code",
   "execution_count": 3,
   "metadata": {},
   "outputs": [],
   "source": [
    "# Define pretrained resnet from Torch Vision resnet 18\n",
    "class ResNetEmbedding(nn.Module):\n",
    "    def __init__(self, embedding_dim=128, dropout_rate=0.5):\n",
    "        # get resnet super class\n",
    "        super(ResNetEmbedding, self).__init__()\n",
    "        self.resnet = models.resnet18(weights='DEFAULT')\n",
    "        # Change structure of first layer to take non RGB images, rest of params same as default\n",
    "        self.resnet.conv1 = nn.Conv2d(1, 64, kernel_size=7, stride=2, padding=3, bias=False)\n",
    "        self.dropout = nn.Dropout(p=dropout_rate)\n",
    "        # Set the last fully connected to a set dimension \"embedding_dim\" instead of default 1000\n",
    "        self.resnet.fc = nn.Linear(self.resnet.fc.in_features, embedding_dim)\n",
    "\n",
    "    def forward(self, x):\n",
    "        x = self.resnet(x)\n",
    "        return F.normalize(x, p=2, dim=1)"
   ]
  },
  {
   "cell_type": "code",
   "execution_count": null,
   "metadata": {},
   "outputs": [],
   "source": [
    "from transformers import WhisperProcessor, WhisperForConditionalGeneration\n",
    "import torch\n",
    "import torch.nn as nn\n",
    "\n",
    "class WhisperEmbedding(nn.Module):\n",
    "    def __init__(self, embedding_dim=128, pretrained_model_name=\"openai/whisper-tiny\"):\n",
    "        super(WhisperEmbedding, self).__init__()\n",
    "        self.whisper = WhisperForConditionalGeneration.from_pretrained(pretrained_model_name)\n",
    "        self.fc = nn.Linear(self.whisper.config.hidden_size, embedding_dim)\n",
    "\n",
    "    def forward(self, x):\n",
    "        # Pass through Whisper's encoder\n",
    "        outputs = self.whisper.encoder(x)\n",
    "        # Get the mean of the hidden states to create an embedding\n",
    "        embedding = outputs.last_hidden_state.mean(dim=1)\n",
    "        # Pass through a linear layer to get the final embedding\n",
    "        embedding = self.fc(embedding)\n",
    "        # Normalize the embedding\n",
    "        return torch.nn.functional.normalize(embedding, p=2, dim=1)"
   ]
  },
  {
   "cell_type": "code",
   "execution_count": 5,
   "metadata": {},
   "outputs": [
    {
     "data": {
      "text/plain": [
       "ResNetEmbedding(\n",
       "  (resnet): ResNet(\n",
       "    (conv1): Conv2d(1, 64, kernel_size=(7, 7), stride=(2, 2), padding=(3, 3), bias=False)\n",
       "    (bn1): BatchNorm2d(64, eps=1e-05, momentum=0.1, affine=True, track_running_stats=True)\n",
       "    (relu): ReLU(inplace=True)\n",
       "    (maxpool): MaxPool2d(kernel_size=3, stride=2, padding=1, dilation=1, ceil_mode=False)\n",
       "    (layer1): Sequential(\n",
       "      (0): BasicBlock(\n",
       "        (conv1): Conv2d(64, 64, kernel_size=(3, 3), stride=(1, 1), padding=(1, 1), bias=False)\n",
       "        (bn1): BatchNorm2d(64, eps=1e-05, momentum=0.1, affine=True, track_running_stats=True)\n",
       "        (relu): ReLU(inplace=True)\n",
       "        (conv2): Conv2d(64, 64, kernel_size=(3, 3), stride=(1, 1), padding=(1, 1), bias=False)\n",
       "        (bn2): BatchNorm2d(64, eps=1e-05, momentum=0.1, affine=True, track_running_stats=True)\n",
       "      )\n",
       "      (1): BasicBlock(\n",
       "        (conv1): Conv2d(64, 64, kernel_size=(3, 3), stride=(1, 1), padding=(1, 1), bias=False)\n",
       "        (bn1): BatchNorm2d(64, eps=1e-05, momentum=0.1, affine=True, track_running_stats=True)\n",
       "        (relu): ReLU(inplace=True)\n",
       "        (conv2): Conv2d(64, 64, kernel_size=(3, 3), stride=(1, 1), padding=(1, 1), bias=False)\n",
       "        (bn2): BatchNorm2d(64, eps=1e-05, momentum=0.1, affine=True, track_running_stats=True)\n",
       "      )\n",
       "    )\n",
       "    (layer2): Sequential(\n",
       "      (0): BasicBlock(\n",
       "        (conv1): Conv2d(64, 128, kernel_size=(3, 3), stride=(2, 2), padding=(1, 1), bias=False)\n",
       "        (bn1): BatchNorm2d(128, eps=1e-05, momentum=0.1, affine=True, track_running_stats=True)\n",
       "        (relu): ReLU(inplace=True)\n",
       "        (conv2): Conv2d(128, 128, kernel_size=(3, 3), stride=(1, 1), padding=(1, 1), bias=False)\n",
       "        (bn2): BatchNorm2d(128, eps=1e-05, momentum=0.1, affine=True, track_running_stats=True)\n",
       "        (downsample): Sequential(\n",
       "          (0): Conv2d(64, 128, kernel_size=(1, 1), stride=(2, 2), bias=False)\n",
       "          (1): BatchNorm2d(128, eps=1e-05, momentum=0.1, affine=True, track_running_stats=True)\n",
       "        )\n",
       "      )\n",
       "      (1): BasicBlock(\n",
       "        (conv1): Conv2d(128, 128, kernel_size=(3, 3), stride=(1, 1), padding=(1, 1), bias=False)\n",
       "        (bn1): BatchNorm2d(128, eps=1e-05, momentum=0.1, affine=True, track_running_stats=True)\n",
       "        (relu): ReLU(inplace=True)\n",
       "        (conv2): Conv2d(128, 128, kernel_size=(3, 3), stride=(1, 1), padding=(1, 1), bias=False)\n",
       "        (bn2): BatchNorm2d(128, eps=1e-05, momentum=0.1, affine=True, track_running_stats=True)\n",
       "      )\n",
       "    )\n",
       "    (layer3): Sequential(\n",
       "      (0): BasicBlock(\n",
       "        (conv1): Conv2d(128, 256, kernel_size=(3, 3), stride=(2, 2), padding=(1, 1), bias=False)\n",
       "        (bn1): BatchNorm2d(256, eps=1e-05, momentum=0.1, affine=True, track_running_stats=True)\n",
       "        (relu): ReLU(inplace=True)\n",
       "        (conv2): Conv2d(256, 256, kernel_size=(3, 3), stride=(1, 1), padding=(1, 1), bias=False)\n",
       "        (bn2): BatchNorm2d(256, eps=1e-05, momentum=0.1, affine=True, track_running_stats=True)\n",
       "        (downsample): Sequential(\n",
       "          (0): Conv2d(128, 256, kernel_size=(1, 1), stride=(2, 2), bias=False)\n",
       "          (1): BatchNorm2d(256, eps=1e-05, momentum=0.1, affine=True, track_running_stats=True)\n",
       "        )\n",
       "      )\n",
       "      (1): BasicBlock(\n",
       "        (conv1): Conv2d(256, 256, kernel_size=(3, 3), stride=(1, 1), padding=(1, 1), bias=False)\n",
       "        (bn1): BatchNorm2d(256, eps=1e-05, momentum=0.1, affine=True, track_running_stats=True)\n",
       "        (relu): ReLU(inplace=True)\n",
       "        (conv2): Conv2d(256, 256, kernel_size=(3, 3), stride=(1, 1), padding=(1, 1), bias=False)\n",
       "        (bn2): BatchNorm2d(256, eps=1e-05, momentum=0.1, affine=True, track_running_stats=True)\n",
       "      )\n",
       "    )\n",
       "    (layer4): Sequential(\n",
       "      (0): BasicBlock(\n",
       "        (conv1): Conv2d(256, 512, kernel_size=(3, 3), stride=(2, 2), padding=(1, 1), bias=False)\n",
       "        (bn1): BatchNorm2d(512, eps=1e-05, momentum=0.1, affine=True, track_running_stats=True)\n",
       "        (relu): ReLU(inplace=True)\n",
       "        (conv2): Conv2d(512, 512, kernel_size=(3, 3), stride=(1, 1), padding=(1, 1), bias=False)\n",
       "        (bn2): BatchNorm2d(512, eps=1e-05, momentum=0.1, affine=True, track_running_stats=True)\n",
       "        (downsample): Sequential(\n",
       "          (0): Conv2d(256, 512, kernel_size=(1, 1), stride=(2, 2), bias=False)\n",
       "          (1): BatchNorm2d(512, eps=1e-05, momentum=0.1, affine=True, track_running_stats=True)\n",
       "        )\n",
       "      )\n",
       "      (1): BasicBlock(\n",
       "        (conv1): Conv2d(512, 512, kernel_size=(3, 3), stride=(1, 1), padding=(1, 1), bias=False)\n",
       "        (bn1): BatchNorm2d(512, eps=1e-05, momentum=0.1, affine=True, track_running_stats=True)\n",
       "        (relu): ReLU(inplace=True)\n",
       "        (conv2): Conv2d(512, 512, kernel_size=(3, 3), stride=(1, 1), padding=(1, 1), bias=False)\n",
       "        (bn2): BatchNorm2d(512, eps=1e-05, momentum=0.1, affine=True, track_running_stats=True)\n",
       "      )\n",
       "    )\n",
       "    (avgpool): AdaptiveAvgPool2d(output_size=(1, 1))\n",
       "    (fc): Linear(in_features=512, out_features=128, bias=True)\n",
       "  )\n",
       "  (dropout): Dropout(p=0.5, inplace=False)\n",
       ")"
      ]
     },
     "execution_count": 5,
     "metadata": {},
     "output_type": "execute_result"
    }
   ],
   "source": [
    "# Choose model, loss, and optimizer\n",
    "model = ResNetEmbedding()\n",
    "criterion = nn.TripletMarginLoss(margin=1.0, p=2, eps=1e-7)\n",
    "optimizer = torch.optim.Adam(model.parameters(), lr=1e-4)\n",
    "\n",
    "# Freeze all layers except the last block and the fully connected layer\n",
    "for param in model.resnet.parameters():\n",
    "    param.requires_grad = False\n",
    "\n",
    "for param in model.resnet.layer4.parameters():\n",
    "    param.requires_grad = True\n",
    "\n",
    "for param in model.resnet.fc.parameters():\n",
    "    param.requires_grad = True\n",
    "\n",
    "# Use a smaller learning rate for fine-tuning\n",
    "optimizer = optim.Adam(filter(lambda p: p.requires_grad, model.parameters()), lr=1e-5, weight_decay=1e-4)\n",
    "\n",
    "\n",
    "# Declare losses/accuracies\n",
    "train_losses = []\n",
    "val_losses = []\n",
    "baseline_losses = []\n",
    "\n",
    "num_epochs = 10\n",
    "device = torch.device('cuda' if torch.cuda.is_available() else 'cpu')\n",
    "model.to(device)"
   ]
  },
  {
   "cell_type": "markdown",
   "metadata": {},
   "source": [
    "### Training Model\n",
    "- Go in training mode, zero gradients with "
   ]
  },
  {
   "cell_type": "code",
   "execution_count": 132,
   "metadata": {},
   "outputs": [
    {
     "name": "stderr",
     "output_type": "stream",
     "text": [
      "Training 14/25:   9%|▉         | 3/32 [14:12:56<137:25:01, 17058.67s/sample]\n",
      "Validation 13/25: 100%|██████████| 32/32 [15:59:30<00:00, 1799.06s/sample]\n",
      "Validation 1/10: 100%|██████████| 32/32 [06:33<00:00,  8.84s/sample]"
     ]
    },
    {
     "name": "stdout",
     "output_type": "stream",
     "text": [
      "Epoch [1/10], Train Loss: 0.8526, Val Loss: 0.9480, Baseline Loss: 1.3982\n"
     ]
    },
    {
     "name": "stderr",
     "output_type": "stream",
     "text": [
      "\n",
      "Training 1/10: 100%|██████████| 32/32 [19:30<00:00, 36.58s/sample]\n",
      "\n",
      "\u001b[A\n",
      "\u001b[A\n",
      "\u001b[A\n",
      "\u001b[A\n",
      "\u001b[A\n",
      "\u001b[A\n",
      "\u001b[A\n",
      "\u001b[A\n",
      "\u001b[A\n",
      "\u001b[A\n",
      "\u001b[A\n",
      "\u001b[A\n",
      "\u001b[A\n",
      "\u001b[A\n",
      "\u001b[A\n",
      "\u001b[A\n",
      "\u001b[A\n",
      "\u001b[A\n",
      "\u001b[A\n",
      "\u001b[A\n",
      "\u001b[A\n",
      "\u001b[A\n",
      "\u001b[A\n",
      "\u001b[A\n",
      "\u001b[A\n",
      "\u001b[A\n",
      "\u001b[A\n",
      "\u001b[A\n",
      "\u001b[A\n",
      "\u001b[A\n",
      "\u001b[A\n",
      "Validation 1/10: 100%|██████████| 32/32 [14:22<00:00, 26.94s/sample]\n"
     ]
    },
    {
     "name": "stdout",
     "output_type": "stream",
     "text": [
      "Epoch [2/10], Train Loss: 0.7347, Val Loss: 0.9197, Baseline Loss: 1.3982\n"
     ]
    },
    {
     "name": "stderr",
     "output_type": "stream",
     "text": [
      "Training 2/10: 100%|██████████| 32/32 [13:15<00:00, 24.87s/sample]\n",
      "Training 3/10: 100%|██████████| 32/32 [07:08<00:00, 13.30s/sample]\n",
      "Validation 2/10: 100%|██████████| 32/32 [12:55<00:00, 24.24s/sample]\n",
      "\n",
      "\u001b[A\n",
      "\u001b[A\n",
      "\u001b[A\n",
      "\u001b[A\n",
      "\u001b[A\n",
      "\u001b[A\n",
      "\u001b[A\n",
      "\u001b[A\n",
      "\u001b[A\n",
      "\u001b[A\n",
      "\u001b[A\n",
      "\u001b[A\n",
      "\u001b[A\n",
      "\u001b[A\n",
      "\u001b[A\n",
      "\u001b[A\n",
      "\u001b[A\n",
      "\u001b[A\n",
      "\u001b[A\n",
      "\u001b[A\n",
      "\u001b[A\n",
      "\u001b[A\n",
      "\u001b[A\n",
      "\u001b[A\n",
      "\u001b[A\n",
      "\u001b[A\n",
      "\u001b[A\n",
      "\u001b[A\n",
      "\u001b[A\n",
      "\u001b[A\n",
      "\u001b[A\n",
      "\u001b[A"
     ]
    },
    {
     "name": "stdout",
     "output_type": "stream",
     "text": [
      "Epoch [3/10], Train Loss: 0.5904, Val Loss: 0.8885, Baseline Loss: 1.3982\n"
     ]
    },
    {
     "name": "stderr",
     "output_type": "stream",
     "text": [
      "Training 3/10: 100%|██████████| 32/32 [12:44<00:00, 23.89s/sample]\n",
      "Validation 3/10: 100%|██████████| 32/32 [12:31<00:00, 23.47s/sample]\n",
      "Validation 4/10: 100%|██████████| 32/32 [05:00<00:00,  7.07s/sample]"
     ]
    },
    {
     "name": "stdout",
     "output_type": "stream",
     "text": [
      "Epoch [4/10], Train Loss: 0.4886, Val Loss: 0.8193, Baseline Loss: 1.3982\n"
     ]
    },
    {
     "name": "stderr",
     "output_type": "stream",
     "text": [
      "\n",
      "Training 4/10: 100%|██████████| 32/32 [12:37<00:00, 23.68s/sample]\n",
      "\n",
      "\u001b[A\n",
      "\u001b[A\n",
      "\u001b[A\n",
      "\u001b[A\n",
      "\u001b[A\n",
      "\u001b[A\n",
      "\u001b[A\n",
      "\u001b[A\n",
      "\u001b[A\n",
      "\u001b[A\n",
      "\u001b[A\n",
      "\u001b[A\n",
      "\u001b[A\n",
      "\u001b[A\n",
      "\u001b[A\n",
      "\u001b[A\n",
      "\u001b[A\n",
      "\u001b[A\n",
      "\u001b[A\n",
      "\u001b[A\n",
      "\u001b[A\n",
      "\u001b[A\n",
      "\u001b[A\n",
      "\u001b[A\n",
      "\u001b[A\n",
      "\u001b[A\n",
      "\u001b[A\n",
      "\u001b[A\n",
      "\u001b[A\n",
      "\u001b[A\n",
      "\u001b[A\n",
      "Validation 4/10: 100%|██████████| 32/32 [12:22<00:00, 23.21s/sample]\n"
     ]
    },
    {
     "name": "stdout",
     "output_type": "stream",
     "text": [
      "Epoch [5/10], Train Loss: 0.4322, Val Loss: 0.7850, Baseline Loss: 1.3982\n"
     ]
    },
    {
     "name": "stderr",
     "output_type": "stream",
     "text": [
      "Training 5/10: 100%|██████████| 32/32 [11:50<00:00, 22.21s/sample]\n",
      "Training 6/10: 100%|██████████| 32/32 [06:38<00:00, 11.56s/sample]\n",
      "Validation 5/10: 100%|██████████| 32/32 [11:48<00:00, 22.14s/sample]\n",
      "\n",
      "\u001b[A\n",
      "\u001b[A\n",
      "\u001b[A\n",
      "\u001b[A\n",
      "\u001b[A\n",
      "\u001b[A\n",
      "\u001b[A\n",
      "\u001b[A\n",
      "\u001b[A\n",
      "\u001b[A\n",
      "\u001b[A\n",
      "\u001b[A\n",
      "\u001b[A\n",
      "\u001b[A\n",
      "\u001b[A\n",
      "\u001b[A\n",
      "\u001b[A\n",
      "\u001b[A\n",
      "\u001b[A\n",
      "\u001b[A\n",
      "\u001b[A\n",
      "\u001b[A\n",
      "\u001b[A\n",
      "\u001b[A\n",
      "\u001b[A\n",
      "\u001b[A\n",
      "\u001b[A\n",
      "\u001b[A\n",
      "\u001b[A\n",
      "\u001b[A\n",
      "\u001b[A\n",
      "\u001b[A"
     ]
    },
    {
     "name": "stdout",
     "output_type": "stream",
     "text": [
      "Epoch [6/10], Train Loss: 0.3752, Val Loss: 0.7329, Baseline Loss: 1.3982\n"
     ]
    },
    {
     "name": "stderr",
     "output_type": "stream",
     "text": [
      "Training 6/10: 100%|██████████| 32/32 [11:56<00:00, 22.39s/sample]\n",
      "Validation 6/10: 100%|██████████| 32/32 [11:55<00:00, 22.37s/sample]\n",
      "Validation 7/10: 100%|██████████| 32/32 [04:48<00:00,  6.98s/sample]"
     ]
    },
    {
     "name": "stdout",
     "output_type": "stream",
     "text": [
      "Epoch [7/10], Train Loss: 0.3315, Val Loss: 0.6977, Baseline Loss: 1.3982\n"
     ]
    },
    {
     "name": "stderr",
     "output_type": "stream",
     "text": [
      "\n",
      "Training 7/10: 100%|██████████| 32/32 [11:45<00:00, 22.06s/sample]\n",
      "\n",
      "\u001b[A\n",
      "\u001b[A\n",
      "\u001b[A\n",
      "\u001b[A\n",
      "\u001b[A\n",
      "\u001b[A\n",
      "\u001b[A\n",
      "\u001b[A\n",
      "\u001b[A\n",
      "\u001b[A\n",
      "\u001b[A\n",
      "\u001b[A\n",
      "\u001b[A\n",
      "\u001b[A\n",
      "\u001b[A\n",
      "\u001b[A\n",
      "\u001b[A\n",
      "\u001b[A\n",
      "\u001b[A\n",
      "\u001b[A\n",
      "\u001b[A\n",
      "\u001b[A\n",
      "\u001b[A\n",
      "\u001b[A\n",
      "\u001b[A\n",
      "\u001b[A\n",
      "\u001b[A\n",
      "\u001b[A\n",
      "\u001b[A\n",
      "\u001b[A\n",
      "\u001b[A\n",
      "Validation 7/10: 100%|██████████| 32/32 [11:35<00:00, 21.74s/sample]\n"
     ]
    },
    {
     "name": "stdout",
     "output_type": "stream",
     "text": [
      "Epoch [8/10], Train Loss: 0.2996, Val Loss: 0.6530, Baseline Loss: 1.3982\n"
     ]
    },
    {
     "name": "stderr",
     "output_type": "stream",
     "text": [
      "Training 8/10: 100%|██████████| 32/32 [12:03<00:00, 22.62s/sample]\n",
      "Training 9/10: 100%|██████████| 32/32 [06:29<00:00, 11.10s/sample]\n",
      "Validation 8/10: 100%|██████████| 32/32 [12:05<00:00, 22.67s/sample]\n",
      "\n",
      "\u001b[A\n",
      "\u001b[A\n",
      "\u001b[A\n",
      "\u001b[A\n",
      "\u001b[A\n",
      "\u001b[A\n",
      "\u001b[A\n",
      "\u001b[A\n",
      "\u001b[A\n",
      "\u001b[A\n",
      "\u001b[A\n",
      "\u001b[A\n",
      "\u001b[A\n",
      "\u001b[A\n",
      "\u001b[A\n",
      "\u001b[A\n",
      "\u001b[A\n",
      "\u001b[A\n",
      "\u001b[A\n",
      "\u001b[A\n",
      "\u001b[A\n",
      "\u001b[A\n",
      "\u001b[A\n",
      "\u001b[A\n",
      "\u001b[A\n",
      "\u001b[A\n",
      "\u001b[A\n",
      "\u001b[A\n",
      "\u001b[A\n",
      "\u001b[A\n",
      "\u001b[A\n",
      "\u001b[A"
     ]
    },
    {
     "name": "stdout",
     "output_type": "stream",
     "text": [
      "Epoch [9/10], Train Loss: 0.2748, Val Loss: 0.6315, Baseline Loss: 1.3982\n"
     ]
    },
    {
     "name": "stderr",
     "output_type": "stream",
     "text": [
      "Training 9/10: 100%|██████████| 32/32 [11:47<00:00, 22.12s/sample]\n",
      "Validation 9/10: 100%|██████████| 32/32 [11:57<00:00, 22.43s/sample]\n",
      "Validation 10/10: 100%|██████████| 32/32 [04:48<00:00,  6.99s/sample]"
     ]
    },
    {
     "name": "stdout",
     "output_type": "stream",
     "text": [
      "Epoch [10/10], Train Loss: 0.2555, Val Loss: 0.6186, Baseline Loss: 1.3982\n"
     ]
    }
   ],
   "source": [
    "# Loop over epochs\n",
    "for epoch in range(num_epochs):\n",
    "    model.train()\n",
    "    train_loss = 0.0\n",
    "    running_train_loss = 0.0\n",
    "    pbar = tqdm(train_loader, desc=f\"Training {epoch+1}/{num_epochs}\", unit=\"sample\")\n",
    "    #train_loader = tqdm(train_loader, desc=f\"Epoch {epoch+1}/{num_epochs}\", unit=\"batch\")\n",
    "    # Loop over batches using dataloaders\n",
    "    for anchors, positives, negatives in train_loader:\n",
    "        anchors, positives, negatives = anchors.to(device), positives.to(device), negatives.to(device)\n",
    "\n",
    "        optimizer.zero_grad()\n",
    "        \n",
    "        anchor_embeddings = model(anchors)\n",
    "        positive_embeddings = model(positives)\n",
    "        negative_embeddings = model(negatives)\n",
    "        \n",
    "        loss = criterion(anchor_embeddings, positive_embeddings, negative_embeddings)\n",
    "        loss.backward()\n",
    "        optimizer.step()\n",
    "        \n",
    "        running_train_loss += loss.item() * anchors.size(0)\n",
    "        # Update the progress bar by the current batch size\n",
    "        #pbar.set_postfix({'loss': loss.item()})\n",
    "        pbar.update(1)  # Increment the progress bar\n",
    "    \n",
    "          \n",
    "    train_loss = running_train_loss / len(train_loader.dataset)\n",
    "    train_losses.append(train_loss)\n",
    "        #train_loss += loss.item()\n",
    "\n",
    "    # Get avg train loss over batches\n",
    "    #train_loss /= len(train_loader)\n",
    "    \n",
    "    # Turn on validation/eval mode\n",
    "    model.eval()\n",
    "    running_val_loss = 0.0 \n",
    "    baseline_loss = 0.0   \n",
    "    val_pbar = tqdm(val_loader, desc=f\"Validation {epoch+1}/{num_epochs}\", unit=\"sample\")\n",
    "    # Turn off gradient updates since we're in validation\n",
    "    with torch.no_grad():\n",
    "        # Batch loop \n",
    "        for anchors, positives, negatives in val_loader:\n",
    "            anchors, positives, negatives = anchors.to(device), positives.to(device), negatives.to(device)\n",
    "            \n",
    "            anchor_embeddings = model(anchors)\n",
    "            positive_embeddings = model(positives)\n",
    "            negative_embeddings = model(negatives)\n",
    "            \n",
    "            loss = criterion(anchor_embeddings, positive_embeddings, negative_embeddings)\n",
    "            #val_loss += loss.item()\n",
    "\n",
    "            running_val_loss += loss.item() * anchors.size(0)\n",
    "            # baseline loss\n",
    "            baseline_loss += criterion(anchors, positives, negatives).item()\n",
    "            \n",
    "            # Update the validation progress bar\n",
    "            #val_pbar.set_postfix({'val_loss': loss.item()})\n",
    "            val_pbar.update(1)  # Increment the progress bar\n",
    "    \n",
    "    # Calculate average validation loss over the entire dataset\n",
    "    val_loss = running_val_loss / len(val_loader.dataset)\n",
    "    val_losses.append(val_loss)  \n",
    "\n",
    "    baseline_avg_loss = baseline_loss / len(val_loader.dataset)\n",
    "    baseline_losses.append(baseline_avg_loss)\n",
    "    # Get average val loss over batches\n",
    "    #val_loss /= len(val_loader)\n",
    "    \n",
    "    print(f\"Epoch [{epoch+1}/{num_epochs}], Train Loss: {train_loss:.4f}, Val Loss: {val_loss:.4f}, Baseline Loss: {baseline_avg_loss:.4f}\")\n",
    "    \n",
    "    with open('training_logs.pkl', 'wb') as f:\n",
    "        pkl.dump((train_losses, val_losses), f)"
   ]
  },
  {
   "cell_type": "code",
   "execution_count": 133,
   "metadata": {},
   "outputs": [
    {
     "data": {
      "image/png": "[encoded data removed]",
      "text/plain": [
       "<Figure size 1000x500 with 1 Axes>"
      ]
     },
     "metadata": {},
     "output_type": "display_data"
    }
   ],
   "source": [
    "# Plot loss curves for training\n",
    "epochs = range(1, num_epochs + 1)\n",
    "\n",
    "plt.figure(figsize=(10, 5))\n",
    "plt.plot(epochs, train_losses, label='Training Loss')\n",
    "plt.plot(epochs, val_losses, label='Validation Loss')\n",
    "plt.plot(epochs, baseline_losses, label='Baseline Loss')\n",
    "plt.xlabel('Epochs')\n",
    "plt.ylabel('Loss')\n",
    "plt.title('Training and Validation Loss')\n",
    "plt.legend()\n",
    "plt.tight_layout()\n",
    "plt.savefig('../images/resnet-loss-plot.png')\n",
    "plt.show()\n"
   ]
  },
  {
   "cell_type": "code",
   "execution_count": 1,
   "metadata": {},
   "outputs": [
    {
     "ename": "NameError",
     "evalue": "name 'torch' is not defined",
     "output_type": "error",
     "traceback": [
      "\u001b[0;31m---------------------------------------------------------------------------\u001b[0m",
      "\u001b[0;31mNameError\u001b[0m                                 Traceback (most recent call last)",
      "Cell \u001b[0;32mIn[1], line 2\u001b[0m\n\u001b[1;32m      1\u001b[0m \u001b[38;5;66;03m# Save just the model weights (recommended apparently for portability/compatibility)\u001b[39;00m\n\u001b[0;32m----> 2\u001b[0m \u001b[43mtorch\u001b[49m\u001b[38;5;241m.\u001b[39msave(model\u001b[38;5;241m.\u001b[39mstate_dict(), \u001b[38;5;124m'\u001b[39m\u001b[38;5;124mresnet18_model_weights.pth\u001b[39m\u001b[38;5;124m'\u001b[39m)\n",
      "\u001b[0;31mNameError\u001b[0m: name 'torch' is not defined"
     ]
    }
   ],
   "source": [
    "# Save just the model weights (recommended apparently for portability/compatibility)\n",
    "torch.save(model.state_dict(), 'resnet18_model_weights.pth')"
   ]
  },
  {
   "cell_type": "code",
   "execution_count": 18,
   "metadata": {},
   "outputs": [],
   "source": [
    "# Save the entire model so we can use it for deployment\n",
    "torch.save(model, 'resnet18_model.pth')"
   ]
  },
  {
   "cell_type": "markdown",
   "metadata": {},
   "source": [
    "### Deploy on any 2 songs\n",
    "- Use model to calculate embeddings (using eval mode specifically and with no gradient updating)\n",
    "- NOTE: Right now, we have to have the input data in the correct format: a spectrogram/chromagram/tempogram (generically called \"gram\"). So for any deployment, we'll have to do preprocessing in the streamlit app for example. OR we can have a set of say 10-15 sample songs you can compare where we've already done all of the calculations.\n",
    "- **Similarity values key:**\n",
    "    - 0.5 to 1: Very similar. Perhaps the same song.\n",
    "    - 0 to 0.5: Somewhat similar. Share some key characteristics\n",
    "    - -1 to 0: Low to no similarity. Different songs.\n"
   ]
  },
  {
   "cell_type": "code",
   "execution_count": 172,
   "metadata": {},
   "outputs": [
    {
     "data": {
      "text/plain": [
       "ResNetEmbedding(\n",
       "  (resnet): ResNet(\n",
       "    (conv1): Conv2d(1, 64, kernel_size=(7, 7), stride=(2, 2), padding=(3, 3), bias=False)\n",
       "    (bn1): BatchNorm2d(64, eps=1e-05, momentum=0.1, affine=True, track_running_stats=True)\n",
       "    (relu): ReLU(inplace=True)\n",
       "    (maxpool): MaxPool2d(kernel_size=3, stride=2, padding=1, dilation=1, ceil_mode=False)\n",
       "    (layer1): Sequential(\n",
       "      (0): BasicBlock(\n",
       "        (conv1): Conv2d(64, 64, kernel_size=(3, 3), stride=(1, 1), padding=(1, 1), bias=False)\n",
       "        (bn1): BatchNorm2d(64, eps=1e-05, momentum=0.1, affine=True, track_running_stats=True)\n",
       "        (relu): ReLU(inplace=True)\n",
       "        (conv2): Conv2d(64, 64, kernel_size=(3, 3), stride=(1, 1), padding=(1, 1), bias=False)\n",
       "        (bn2): BatchNorm2d(64, eps=1e-05, momentum=0.1, affine=True, track_running_stats=True)\n",
       "      )\n",
       "      (1): BasicBlock(\n",
       "        (conv1): Conv2d(64, 64, kernel_size=(3, 3), stride=(1, 1), padding=(1, 1), bias=False)\n",
       "        (bn1): BatchNorm2d(64, eps=1e-05, momentum=0.1, affine=True, track_running_stats=True)\n",
       "        (relu): ReLU(inplace=True)\n",
       "        (conv2): Conv2d(64, 64, kernel_size=(3, 3), stride=(1, 1), padding=(1, 1), bias=False)\n",
       "        (bn2): BatchNorm2d(64, eps=1e-05, momentum=0.1, affine=True, track_running_stats=True)\n",
       "      )\n",
       "    )\n",
       "    (layer2): Sequential(\n",
       "      (0): BasicBlock(\n",
       "        (conv1): Conv2d(64, 128, kernel_size=(3, 3), stride=(2, 2), padding=(1, 1), bias=False)\n",
       "        (bn1): BatchNorm2d(128, eps=1e-05, momentum=0.1, affine=True, track_running_stats=True)\n",
       "        (relu): ReLU(inplace=True)\n",
       "        (conv2): Conv2d(128, 128, kernel_size=(3, 3), stride=(1, 1), padding=(1, 1), bias=False)\n",
       "        (bn2): BatchNorm2d(128, eps=1e-05, momentum=0.1, affine=True, track_running_stats=True)\n",
       "        (downsample): Sequential(\n",
       "          (0): Conv2d(64, 128, kernel_size=(1, 1), stride=(2, 2), bias=False)\n",
       "          (1): BatchNorm2d(128, eps=1e-05, momentum=0.1, affine=True, track_running_stats=True)\n",
       "        )\n",
       "      )\n",
       "      (1): BasicBlock(\n",
       "        (conv1): Conv2d(128, 128, kernel_size=(3, 3), stride=(1, 1), padding=(1, 1), bias=False)\n",
       "        (bn1): BatchNorm2d(128, eps=1e-05, momentum=0.1, affine=True, track_running_stats=True)\n",
       "        (relu): ReLU(inplace=True)\n",
       "        (conv2): Conv2d(128, 128, kernel_size=(3, 3), stride=(1, 1), padding=(1, 1), bias=False)\n",
       "        (bn2): BatchNorm2d(128, eps=1e-05, momentum=0.1, affine=True, track_running_stats=True)\n",
       "      )\n",
       "    )\n",
       "    (layer3): Sequential(\n",
       "      (0): BasicBlock(\n",
       "        (conv1): Conv2d(128, 256, kernel_size=(3, 3), stride=(2, 2), padding=(1, 1), bias=False)\n",
       "        (bn1): BatchNorm2d(256, eps=1e-05, momentum=0.1, affine=True, track_running_stats=True)\n",
       "        (relu): ReLU(inplace=True)\n",
       "        (conv2): Conv2d(256, 256, kernel_size=(3, 3), stride=(1, 1), padding=(1, 1), bias=False)\n",
       "        (bn2): BatchNorm2d(256, eps=1e-05, momentum=0.1, affine=True, track_running_stats=True)\n",
       "        (downsample): Sequential(\n",
       "          (0): Conv2d(128, 256, kernel_size=(1, 1), stride=(2, 2), bias=False)\n",
       "          (1): BatchNorm2d(256, eps=1e-05, momentum=0.1, affine=True, track_running_stats=True)\n",
       "        )\n",
       "      )\n",
       "      (1): BasicBlock(\n",
       "        (conv1): Conv2d(256, 256, kernel_size=(3, 3), stride=(1, 1), padding=(1, 1), bias=False)\n",
       "        (bn1): BatchNorm2d(256, eps=1e-05, momentum=0.1, affine=True, track_running_stats=True)\n",
       "        (relu): ReLU(inplace=True)\n",
       "        (conv2): Conv2d(256, 256, kernel_size=(3, 3), stride=(1, 1), padding=(1, 1), bias=False)\n",
       "        (bn2): BatchNorm2d(256, eps=1e-05, momentum=0.1, affine=True, track_running_stats=True)\n",
       "      )\n",
       "    )\n",
       "    (layer4): Sequential(\n",
       "      (0): BasicBlock(\n",
       "        (conv1): Conv2d(256, 512, kernel_size=(3, 3), stride=(2, 2), padding=(1, 1), bias=False)\n",
       "        (bn1): BatchNorm2d(512, eps=1e-05, momentum=0.1, affine=True, track_running_stats=True)\n",
       "        (relu): ReLU(inplace=True)\n",
       "        (conv2): Conv2d(512, 512, kernel_size=(3, 3), stride=(1, 1), padding=(1, 1), bias=False)\n",
       "        (bn2): BatchNorm2d(512, eps=1e-05, momentum=0.1, affine=True, track_running_stats=True)\n",
       "        (downsample): Sequential(\n",
       "          (0): Conv2d(256, 512, kernel_size=(1, 1), stride=(2, 2), bias=False)\n",
       "          (1): BatchNorm2d(512, eps=1e-05, momentum=0.1, affine=True, track_running_stats=True)\n",
       "        )\n",
       "      )\n",
       "      (1): BasicBlock(\n",
       "        (conv1): Conv2d(512, 512, kernel_size=(3, 3), stride=(1, 1), padding=(1, 1), bias=False)\n",
       "        (bn1): BatchNorm2d(512, eps=1e-05, momentum=0.1, affine=True, track_running_stats=True)\n",
       "        (relu): ReLU(inplace=True)\n",
       "        (conv2): Conv2d(512, 512, kernel_size=(3, 3), stride=(1, 1), padding=(1, 1), bias=False)\n",
       "        (bn2): BatchNorm2d(512, eps=1e-05, momentum=0.1, affine=True, track_running_stats=True)\n",
       "      )\n",
       "    )\n",
       "    (avgpool): AdaptiveAvgPool2d(output_size=(1, 1))\n",
       "    (fc): Linear(in_features=512, out_features=128, bias=True)\n",
       "  )\n",
       "  (dropout): Dropout(p=0.5, inplace=False)\n",
       ")"
      ]
     },
     "execution_count": 172,
     "metadata": {},
     "output_type": "execute_result"
    }
   ],
   "source": [
    "# How to load the model later using just the state dictionary\n",
    "model = ResNetEmbedding()  # Make sure this matches the architecture you used\n",
    "model.load_state_dict(torch.load('resnet18_model_weights.pth', map_location=torch.device('cpu')))\n",
    "\n",
    "# If using a GPU\n",
    "device = torch.device('cuda' if torch.cuda.is_available() else 'cpu')\n",
    "model.to(device)"
   ]
  },
  {
   "cell_type": "code",
   "execution_count": 173,
   "metadata": {},
   "outputs": [],
   "source": [
    "# Function to clip audio to 30s (10000 ms by default)\n",
    "def clip_audio(audio_data, segment_length = 120000, sr=22050):\n",
    "    audio = AudioSegment.from_file(audio_data)\n",
    "    # check audio is at least segment_length\n",
    "    if len(audio) < segment_length:\n",
    "        raise ValueError(\"Audio is shorter than the segment length.\")\n",
    "\n",
    "    # Randomly generate start point at least 10s from the end of the song.\n",
    "    start = np.random.randint(0, len(audio) - segment_length)\n",
    "    audio_segment = audio[start:start + segment_length]\n",
    "\n",
    "    # Return clip in format importable to Librosa\n",
    "    audio_segment_io = io.BytesIO()\n",
    "    audio_segment.export(audio_segment_io, format=\"wav\")\n",
    "    audio_segment_io.seek(0)\n",
    "    return audio_segment_io # Export (with pointer at start of audio)\n",
    "\n",
    "def extract_embedding(model, audio_data_clip, sr=22050, is_raw_audio = True, use_model=True):\n",
    "    if is_raw_audio:\n",
    "        \n",
    "        clipped_audio = clip_audio(audio_data_clip)\n",
    "        \n",
    "        y, sr = librosa.load(clipped_audio, sr=sr)\n",
    "        mel_spectrogram = librosa.feature.melspectrogram(y=y, sr=sr)\n",
    "        mel_spectrogram_db = librosa.power_to_db(mel_spectrogram, ref=np.max)\n",
    "\n",
    "    # If its from the train/test set, it's already in librosa format\n",
    "    else:\n",
    "        y = audio_data_clip\n",
    "        mel_spectrogram = librosa.feature.melspectrogram(y=y, sr=sr)\n",
    "        mel_spectrogram_db = librosa.power_to_db(mel_spectrogram, ref=np.max)\n",
    "    \n",
    "    # Convert to tensor and move to the appropriate device\n",
    "    mel_tensor = torch.tensor(mel_spectrogram_db, dtype=torch.float32).unsqueeze(0).unsqueeze(0).to(device)\n",
    "    \n",
    "    if use_model:\n",
    "        # Get the embedding from the model\n",
    "        with torch.no_grad():\n",
    "            embedding = model(mel_tensor)\n",
    "        \n",
    "        # Normalize the embedding to we're not comparing magnitudes\n",
    "        #embedding = F.normalize(embedding, p=2, dim=1)\n",
    "        return embedding\n",
    "    else:\n",
    "        # Flatten to get rid of dimensions, then unqueeze to make 2D with batch dimension \n",
    "        no_model_embedding = mel_tensor.flatten().unsqueeze(0)\n",
    "        # Normalize so that we just compare patterns not magnitudes\n",
    "        no_model_embedding = F.normalize(no_model_embedding, p=2, dim=1)\n",
    "        return no_model_embedding\n",
    "\n",
    "\n",
    "def compute_cosine_similarity(embedding1, embedding2):\n",
    "    cosine_sim = F.cosine_similarity(embedding1, embedding2).item()\n",
    "    return cosine_sim \n",
    "\n",
    "def compute_euclidean_distance(embedding1, embedding2):\n",
    "    euclidean_dist = torch.dist(embedding1, embedding2).item()\n",
    "    return euclidean_dist    \n"
   ]
  },
  {
   "cell_type": "markdown",
   "metadata": {},
   "source": [
    "#### Test on Negatives\n",
    "- Cosine sim: w/ model < without model\n",
    "- Euclidean distance: w/ model should be > without model"
   ]
  },
  {
   "cell_type": "code",
   "execution_count": 82,
   "metadata": {},
   "outputs": [
    {
     "name": "stdout",
     "output_type": "stream",
     "text": [
      "Cosine Sim Anchor-Negative w/ Model: 0.8062185049057007\n",
      "Euclidean Distance Anchor-Negative w/ Model: 0.6225457191467285\n"
     ]
    }
   ],
   "source": [
    "# Test on some random training/validation data as sanity check\n",
    "y1, y2 = explore_df['processed_audio'][10000][0], explore_df['diff_processed_audio'][10000][0]\n",
    "mel1, mel2 = extract_embedding(model, y1, is_raw_audio=False), extract_embedding(model, y2, is_raw_audio=False)\n",
    "print(f'Cosine Sim Anchor-Negative w/ Model: {compute_cosine_similarity(mel1, mel2)}')\n",
    "print(f'Euclidean Distance Anchor-Negative w/ Model: {compute_euclidean_distance(mel1, mel2)}')"
   ]
  },
  {
   "cell_type": "code",
   "execution_count": 83,
   "metadata": {},
   "outputs": [
    {
     "name": "stdout",
     "output_type": "stream",
     "text": [
      "Cosine Sim Anchor-Negative w/o Model: 0.9572652578353882\n",
      "Euclidean Distance Anchor-Negative w/o Model: 0.29235073924064636\n"
     ]
    }
   ],
   "source": [
    "# Test on some random training/validation data as sanity check\n",
    "y1, y2 = explore_df['processed_audio'][10000][0], explore_df['diff_processed_audio'][10000][0]\n",
    "mel1, mel2 = extract_embedding(model, y1, use_model=False, is_raw_audio=False), extract_embedding(model, y2, use_model=False, is_raw_audio=False)\n",
    "print(f'Cosine Sim Anchor-Negative w/o Model: {compute_cosine_similarity(mel1, mel2)}')\n",
    "print(f'Euclidean Distance Anchor-Negative w/o Model: {compute_euclidean_distance(mel1, mel2)}')"
   ]
  },
  {
   "cell_type": "markdown",
   "metadata": {},
   "source": [
    "#### Test on Positives\n",
    "- Cosine similarity: with model > without model\n",
    "- Euclidean distance: with model < without model"
   ]
  },
  {
   "cell_type": "code",
   "execution_count": 84,
   "metadata": {},
   "outputs": [
    {
     "name": "stdout",
     "output_type": "stream",
     "text": [
      "Cosine Sim Anchor-Positive w/ Model: 0.8402945399284363\n",
      "Euclidean Distance Anchor-Positive w/ Model: 0.5651645660400391\n"
     ]
    }
   ],
   "source": [
    "# Check on positives with model\n",
    "y3, y4 = explore_df['processed_audio'][10000][0], explore_df['augmented_audio'][10000][0]\n",
    "mel3, mel4 = extract_embedding(model, y3, is_raw_audio=False), extract_embedding(model, y4, is_raw_audio=False)\n",
    "print(f'Cosine Sim Anchor-Positive w/ Model: {compute_cosine_similarity(mel3, mel4)}')\n",
    "print(f'Euclidean Distance Anchor-Positive w/ Model: {compute_euclidean_distance(mel3, mel4)}')"
   ]
  },
  {
   "cell_type": "code",
   "execution_count": 85,
   "metadata": {},
   "outputs": [
    {
     "name": "stdout",
     "output_type": "stream",
     "text": [
      "Cosine Sim Anchor-Positive w/o Model: 0.9616923332214355\n",
      "Euclidean Distance Anchor-Positive w/o Model: 0.2767931818962097\n"
     ]
    }
   ],
   "source": [
    "# Check on positives without model\n",
    "y3, y4 = explore_df['processed_audio'][10000][0], explore_df['augmented_audio'][10000][0]\n",
    "mel3, mel4 = extract_embedding(model, y3, use_model=False, is_raw_audio=False), extract_embedding(model, y4, use_model=False, is_raw_audio=False)\n",
    "print(f'Cosine Sim Anchor-Positive w/o Model: {compute_cosine_similarity(mel3, mel4)}')\n",
    "print(f'Euclidean Distance Anchor-Positive w/o Model: {compute_euclidean_distance(mel3, mel4)}')"
   ]
  },
  {
   "cell_type": "markdown",
   "metadata": {},
   "source": [
    "#### Test on real raw audio files"
   ]
  },
  {
   "cell_type": "code",
   "execution_count": 177,
   "metadata": {},
   "outputs": [
    {
     "name": "stdout",
     "output_type": "stream",
     "text": [
      "Euclidean Distance btwn Positives w/ Model: 0.4308151304721832\n",
      "Euclidean Distance btwn Positives w/o Model: 0.22964328527450562\n",
      "Euclidean Distance btwn Negatives w/ Model: 0.5609988570213318\n",
      "Euclidean Distance btwn Negatives w/o Model: 0.2416861653327942\n",
      "Triplet Loss w/ Model: 0.8698161840438843\n",
      "Triplet Loss w/o Model: 0.9879622459411621\n"
     ]
    }
   ],
   "source": [
    "# Paths to the audio files (these should be the paths to your actual song files)\n",
    "anchor = '/Users/reggiebain/erdos/song-similarity-erdos-old/data/coversongs/covers32k/A_Whiter_Shade_Of_Pale/annie_lennox+Medusa+03-A_Whiter_Shade_Of_Pale.mp3'\n",
    "positive = '/Users/reggiebain/erdos/song-similarity-erdos-old/data/coversongs/covers32k/A_Whiter_Shade_Of_Pale/procol_harum+Greatest_Hits+2-A_Whiter_Shade_Of_Pale.mp3'\n",
    "negative = '/Users/reggiebain/erdos/song-similarity-erdos-old/data/coversongs/covers32k/Abracadabra/steve_miller_band+Steve_Miller_Band_Live_+09-Abracadabra.mp3'\n",
    "\n",
    "# Extract embeddings with model\n",
    "anchor_with_model = extract_embedding(model, anchor, use_model=True, is_raw_audio=True)\n",
    "positive_with_model = extract_embedding(model, positive, use_model=True, is_raw_audio=True)\n",
    "negative_with_model = extract_embedding(model, negative,use_model=True, is_raw_audio=True)\n",
    "\n",
    "# Extract embeddings w/o model\n",
    "anchor_without_model = extract_embedding(model, anchor, use_model=False, is_raw_audio=True)\n",
    "positive_without_model = extract_embedding(model, positive, use_model=False, is_raw_audio=True)\n",
    "negative_without_model = extract_embedding(model, negative,use_model=False, is_raw_audio=True)\n",
    "\n",
    "print(f\"Euclidean Distance btwn Positives w/ Model: {compute_euclidean_distance(anchor_with_model, positive_with_model)}\")\n",
    "print(f\"Euclidean Distance btwn Positives w/o Model: {compute_euclidean_distance(anchor_without_model, positive_without_model)}\")\n",
    "\n",
    "print(f\"Euclidean Distance btwn Negatives w/ Model: {compute_euclidean_distance(anchor_with_model, negative_with_model)}\")\n",
    "print(f\"Euclidean Distance btwn Negatives w/o Model: {compute_euclidean_distance(anchor_without_model, negative_without_model)}\")\n",
    "\n",
    "print(f\"Triplet Loss w/ Model: {criterion(anchor_with_model, positive_with_model, negative_with_model)}\")\n",
    "print(f\"Triplet Loss w/o Model: {criterion(anchor_without_model, positive_without_model, negative_without_model)}\")"
   ]
  },
  {
   "cell_type": "code",
   "execution_count": 175,
   "metadata": {},
   "outputs": [
    {
     "name": "stdout",
     "output_type": "stream",
     "text": [
      "Percent Decrease in Loss from Model: 13.28%\n"
     ]
    }
   ],
   "source": [
    "# Check the triplet loss calculation by hand. Negative value means model works\n",
    "with_model = compute_euclidean_distance(anchor_with_model, positive_with_model) - compute_euclidean_distance(anchor_with_model, negative_with_model) + 1\n",
    "without_model = compute_euclidean_distance(anchor_without_model, positive_without_model) - compute_euclidean_distance(anchor_without_model, negative_without_model) + 1\n",
    "#print(f\"Difference in Triplet Loss (by hand) WITH vs. WITHOUT: {with_model - without_model}\")\n",
    "print(f\"Percent Decrease in Loss from Model: {(100*(without_model - with_model)/with_model):.2f}%\")"
   ]
  },
  {
   "cell_type": "code",
   "execution_count": null,
   "metadata": {},
   "outputs": [],
   "source": []
  }
 ],
 "metadata": {
  "kernelspec": {
   "display_name": "erdos_may_2024",
   "language": "python",
   "name": "python3"
  },
  "language_info": {
   "codemirror_mode": {
    "name": "ipython",
    "version": 3
   },
   "file_extension": ".py",
   "mimetype": "text/x-python",
   "name": "python",
   "nbconvert_exporter": "python",
   "pygments_lexer": "ipython3",
   "version": "3.11.9"
  }
 },
 "nbformat": 4,
 "nbformat_minor": 2
}
