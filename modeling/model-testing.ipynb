{
 "cells": [
  {
   "cell_type": "markdown",
   "metadata": {},
   "source": [
    "# Model Testing\n",
    "- Create dataset of covers and random other songs. Needs same ratio of cover to non-cover.\n",
    "- Use our regressor as a classifier to track how many covers it identifies.\n",
    "- Compare to baseline of always saying its not a cover.\n",
    "- Explore regressor and write up results of similarity scores for similar vs. non similar songs."
   ]
  },
  {
   "cell_type": "code",
   "execution_count": null,
   "metadata": {},
   "outputs": [],
   "source": [
    "correct = torch.zeros([1], dtype=torch.int32).cuda()\n",
    "d_i_att_p = F.pairwise_distance(img, att_p, p=self.c['norm_degree'])\n",
    "d_i_att_n = F.pairwise_distance(img, att_n, p=self.c['norm_degree'])\n",
    "\n",
    "for i in range(0,len(d_i_att_p)):\n",
    "    if (d_i_att_n[i] - d_i_att_p[i]) > self.c['margin']:\n",
    "        correct[0] += 1\n",
    "\n",
    "return img, att_p, att_n, correct"
   ]
  },
  {
   "cell_type": "code",
   "execution_count": null,
   "metadata": {},
   "outputs": [],
   "source": [
    "import numpy as np\n",
    "\n",
    "def random_baseline(triplet_data):\n",
    "    correct = 0\n",
    "    total = len(triplet_data)\n",
    "    \n",
    "    for _ in triplet_data:\n",
    "        # Randomly choose whether the positive example is closer\n",
    "        if np.random.rand() > 0.5:\n",
    "            correct += 1\n",
    "    \n",
    "    accuracy = correct / total * 100\n",
    "    return accuracy\n",
    "\n",
    "# Assuming test_triplets is a list of (anchor, positive, negative) examples\n",
    "random_accuracy = random_baseline(test_triplets)\n",
    "print(f'Random Baseline Accuracy: {random_accuracy:.2f}%')\n"
   ]
  },
  {
   "cell_type": "code",
   "execution_count": null,
   "metadata": {},
   "outputs": [],
   "source": [
    "import numpy as np\n",
    "from sklearn.metrics.pairwise import cosine_similarity\n",
    "\n",
    "def cosine_similarity_baseline(triplet_data):\n",
    "    correct = 0\n",
    "    total = len(triplet_data)\n",
    "    \n",
    "    for anchor, positive, negative in triplet_data:\n",
    "        # Reshape to 2D arrays for cosine similarity function\n",
    "        anchor = anchor.reshape(1, -1)\n",
    "        positive = positive.reshape(1, -1)\n",
    "        negative = negative.reshape(1, -1)\n",
    "        \n",
    "        # Compute cosine similarities\n",
    "        pos_sim = cosine_similarity(anchor, positive)[0][0]\n",
    "        neg_sim = cosine_similarity(anchor, negative)[0][0]\n",
    "        \n",
    "        # If positive similarity is greater, it's the correct prediction\n",
    "        if pos_sim > neg_sim:\n",
    "            correct += 1\n",
    "    \n",
    "    accuracy = correct / total * 100\n",
    "    return accuracy\n",
    "\n",
    "# Assuming test_triplets is a list of (anchor, positive, negative) examples\n",
    "cosine_accuracy = cosine_similarity_baseline(test_triplets)\n",
    "print(f'Cosine Similarity Baseline Accuracy: {cosine_accuracy:.2f}%')\n"
   ]
  },
  {
   "cell_type": "markdown",
   "metadata": {},
   "source": []
  }
 ],
 "metadata": {
  "language_info": {
   "name": "python"
  }
 },
 "nbformat": 4,
 "nbformat_minor": 2
}
