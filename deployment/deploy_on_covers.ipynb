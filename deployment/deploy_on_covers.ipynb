{
 "cells": [
  {
   "cell_type": "markdown",
   "metadata": {},
   "source": [
    "# Deploying on a test set\n",
    "- Use model weights to test on set of triplets of covers and random different songs\n",
    "- Try various triplet accuracy metrics"
   ]
  },
  {
   "cell_type": "code",
   "execution_count": 108,
   "metadata": {},
   "outputs": [],
   "source": [
    "import pandas as pd\n",
    "import numpy as np\n",
    "import librosa\n",
    "import librosa.display\n",
    "from tqdm import tqdm\n",
    "import matplotlib.pyplot as plt\n",
    "import os\n",
    "from dotenv import dotenv_values \n",
    "import spotipy\n",
    "from spotipy.oauth2 import SpotifyClientCredentials\n",
    "import pickle as pkl\n",
    "\n",
    "import torch\n",
    "import torch.nn as nn\n",
    "import torch.nn.functional as F\n",
    "import torchvision.models as models\n",
    "from torch.utils.data import DataLoader, Dataset\n",
    "\n",
    "from scipy.spatial.distance import euclidean\n",
    "from sklearn.model_selection import train_test_split\n",
    "from sklearn.metrics import accuracy_score, precision_score, f1_score, recall_score, roc_auc_score, roc_curve\n",
    "from transformers import Wav2Vec2Model\n",
    "\n",
    "import torch.optim as optim\n",
    "from pydub import AudioSegment\n",
    "import io"
   ]
  },
  {
   "cell_type": "markdown",
   "metadata": {},
   "source": [
    "### Extract Embeddings"
   ]
  },
  {
   "cell_type": "code",
   "execution_count": 44,
   "metadata": {},
   "outputs": [],
   "source": [
    "# Define pretrained resnet from Torch Vision resnet 18\n",
    "class ResNetEmbedding(nn.Module):\n",
    "    def __init__(self, embedding_dim=128, dropout_rate=0.5):\n",
    "        # get resnet super class\n",
    "        super(ResNetEmbedding, self).__init__()\n",
    "        self.resnet = models.resnet18(weights='DEFAULT')\n",
    "        # Change structure of first layer to take non RGB images, rest of params same as default\n",
    "        self.resnet.conv1 = nn.Conv2d(1, 64, kernel_size=7, stride=2, padding=3, bias=False)\n",
    "        self.dropout = nn.Dropout(p=dropout_rate)\n",
    "        # Set the last fully connected to a set dimension \"embedding_dim\" instead of default 1000\n",
    "        self.resnet.fc = nn.Linear(self.resnet.fc.in_features, embedding_dim)\n",
    "\n",
    "    def forward(self, x):\n",
    "        x = self.resnet(x)\n",
    "        return F.normalize(x, p=2, dim=1)"
   ]
  },
  {
   "cell_type": "code",
   "execution_count": 58,
   "metadata": {},
   "outputs": [
    {
     "data": {
      "text/plain": [
       "ResNetEmbedding(\n",
       "  (resnet): ResNet(\n",
       "    (conv1): Conv2d(1, 64, kernel_size=(7, 7), stride=(2, 2), padding=(3, 3), bias=False)\n",
       "    (bn1): BatchNorm2d(64, eps=1e-05, momentum=0.1, affine=True, track_running_stats=True)\n",
       "    (relu): ReLU(inplace=True)\n",
       "    (maxpool): MaxPool2d(kernel_size=3, stride=2, padding=1, dilation=1, ceil_mode=False)\n",
       "    (layer1): Sequential(\n",
       "      (0): BasicBlock(\n",
       "        (conv1): Conv2d(64, 64, kernel_size=(3, 3), stride=(1, 1), padding=(1, 1), bias=False)\n",
       "        (bn1): BatchNorm2d(64, eps=1e-05, momentum=0.1, affine=True, track_running_stats=True)\n",
       "        (relu): ReLU(inplace=True)\n",
       "        (conv2): Conv2d(64, 64, kernel_size=(3, 3), stride=(1, 1), padding=(1, 1), bias=False)\n",
       "        (bn2): BatchNorm2d(64, eps=1e-05, momentum=0.1, affine=True, track_running_stats=True)\n",
       "      )\n",
       "      (1): BasicBlock(\n",
       "        (conv1): Conv2d(64, 64, kernel_size=(3, 3), stride=(1, 1), padding=(1, 1), bias=False)\n",
       "        (bn1): BatchNorm2d(64, eps=1e-05, momentum=0.1, affine=True, track_running_stats=True)\n",
       "        (relu): ReLU(inplace=True)\n",
       "        (conv2): Conv2d(64, 64, kernel_size=(3, 3), stride=(1, 1), padding=(1, 1), bias=False)\n",
       "        (bn2): BatchNorm2d(64, eps=1e-05, momentum=0.1, affine=True, track_running_stats=True)\n",
       "      )\n",
       "    )\n",
       "    (layer2): Sequential(\n",
       "      (0): BasicBlock(\n",
       "        (conv1): Conv2d(64, 128, kernel_size=(3, 3), stride=(2, 2), padding=(1, 1), bias=False)\n",
       "        (bn1): BatchNorm2d(128, eps=1e-05, momentum=0.1, affine=True, track_running_stats=True)\n",
       "        (relu): ReLU(inplace=True)\n",
       "        (conv2): Conv2d(128, 128, kernel_size=(3, 3), stride=(1, 1), padding=(1, 1), bias=False)\n",
       "        (bn2): BatchNorm2d(128, eps=1e-05, momentum=0.1, affine=True, track_running_stats=True)\n",
       "        (downsample): Sequential(\n",
       "          (0): Conv2d(64, 128, kernel_size=(1, 1), stride=(2, 2), bias=False)\n",
       "          (1): BatchNorm2d(128, eps=1e-05, momentum=0.1, affine=True, track_running_stats=True)\n",
       "        )\n",
       "      )\n",
       "      (1): BasicBlock(\n",
       "        (conv1): Conv2d(128, 128, kernel_size=(3, 3), stride=(1, 1), padding=(1, 1), bias=False)\n",
       "        (bn1): BatchNorm2d(128, eps=1e-05, momentum=0.1, affine=True, track_running_stats=True)\n",
       "        (relu): ReLU(inplace=True)\n",
       "        (conv2): Conv2d(128, 128, kernel_size=(3, 3), stride=(1, 1), padding=(1, 1), bias=False)\n",
       "        (bn2): BatchNorm2d(128, eps=1e-05, momentum=0.1, affine=True, track_running_stats=True)\n",
       "      )\n",
       "    )\n",
       "    (layer3): Sequential(\n",
       "      (0): BasicBlock(\n",
       "        (conv1): Conv2d(128, 256, kernel_size=(3, 3), stride=(2, 2), padding=(1, 1), bias=False)\n",
       "        (bn1): BatchNorm2d(256, eps=1e-05, momentum=0.1, affine=True, track_running_stats=True)\n",
       "        (relu): ReLU(inplace=True)\n",
       "        (conv2): Conv2d(256, 256, kernel_size=(3, 3), stride=(1, 1), padding=(1, 1), bias=False)\n",
       "        (bn2): BatchNorm2d(256, eps=1e-05, momentum=0.1, affine=True, track_running_stats=True)\n",
       "        (downsample): Sequential(\n",
       "          (0): Conv2d(128, 256, kernel_size=(1, 1), stride=(2, 2), bias=False)\n",
       "          (1): BatchNorm2d(256, eps=1e-05, momentum=0.1, affine=True, track_running_stats=True)\n",
       "        )\n",
       "      )\n",
       "      (1): BasicBlock(\n",
       "        (conv1): Conv2d(256, 256, kernel_size=(3, 3), stride=(1, 1), padding=(1, 1), bias=False)\n",
       "        (bn1): BatchNorm2d(256, eps=1e-05, momentum=0.1, affine=True, track_running_stats=True)\n",
       "        (relu): ReLU(inplace=True)\n",
       "        (conv2): Conv2d(256, 256, kernel_size=(3, 3), stride=(1, 1), padding=(1, 1), bias=False)\n",
       "        (bn2): BatchNorm2d(256, eps=1e-05, momentum=0.1, affine=True, track_running_stats=True)\n",
       "      )\n",
       "    )\n",
       "    (layer4): Sequential(\n",
       "      (0): BasicBlock(\n",
       "        (conv1): Conv2d(256, 512, kernel_size=(3, 3), stride=(2, 2), padding=(1, 1), bias=False)\n",
       "        (bn1): BatchNorm2d(512, eps=1e-05, momentum=0.1, affine=True, track_running_stats=True)\n",
       "        (relu): ReLU(inplace=True)\n",
       "        (conv2): Conv2d(512, 512, kernel_size=(3, 3), stride=(1, 1), padding=(1, 1), bias=False)\n",
       "        (bn2): BatchNorm2d(512, eps=1e-05, momentum=0.1, affine=True, track_running_stats=True)\n",
       "        (downsample): Sequential(\n",
       "          (0): Conv2d(256, 512, kernel_size=(1, 1), stride=(2, 2), bias=False)\n",
       "          (1): BatchNorm2d(512, eps=1e-05, momentum=0.1, affine=True, track_running_stats=True)\n",
       "        )\n",
       "      )\n",
       "      (1): BasicBlock(\n",
       "        (conv1): Conv2d(512, 512, kernel_size=(3, 3), stride=(1, 1), padding=(1, 1), bias=False)\n",
       "        (bn1): BatchNorm2d(512, eps=1e-05, momentum=0.1, affine=True, track_running_stats=True)\n",
       "        (relu): ReLU(inplace=True)\n",
       "        (conv2): Conv2d(512, 512, kernel_size=(3, 3), stride=(1, 1), padding=(1, 1), bias=False)\n",
       "        (bn2): BatchNorm2d(512, eps=1e-05, momentum=0.1, affine=True, track_running_stats=True)\n",
       "      )\n",
       "    )\n",
       "    (avgpool): AdaptiveAvgPool2d(output_size=(1, 1))\n",
       "    (fc): Linear(in_features=512, out_features=128, bias=True)\n",
       "  )\n",
       "  (dropout): Dropout(p=0.5, inplace=False)\n",
       ")"
      ]
     },
     "execution_count": 58,
     "metadata": {},
     "output_type": "execute_result"
    }
   ],
   "source": [
    "# How to load the model later using just the state dictionary\n",
    "model = ResNetEmbedding()  # Make sure this matches the architecture you used\n",
    "model.load_state_dict(torch.load('../modeling/resnet_output/resnet18_model_weights.pth', map_location=torch.device('cpu')))\n",
    "\n",
    "# If using a GPU\n",
    "device = torch.device('cuda' if torch.cuda.is_available() else 'cpu')\n",
    "model.to(device)"
   ]
  },
  {
   "cell_type": "code",
   "execution_count": 93,
   "metadata": {},
   "outputs": [],
   "source": [
    "def compute_distance(model, row, use_model=True):\n",
    "    song_1 = row['song_1']\n",
    "    song_2 = row['song_2']\n",
    "    \n",
    "    # Assuming the input for deployment is already a mel spec y values\n",
    "    mel_tensor_1 = torch.tensor(song_1, dtype=torch.float32).unsqueeze(0).unsqueeze(0).to(device)\n",
    "    mel_tensor_2 = torch.tensor(song_2, dtype=torch.float32).unsqueeze(0).unsqueeze(0).to(device)\n",
    "\n",
    "    # Get with model\n",
    "    if use_model:\n",
    "        # Get the embedding from the model. No need to normalize, since forward pass does that\n",
    "        with torch.no_grad():\n",
    "            embedding_1 = model(mel_tensor_1)\n",
    "            embedding_2 = model(mel_tensor_2)\n",
    "\n",
    "    else:\n",
    "        # Flatten to get rid of dimensions, then unqueeze to make 2D with batch dimension \n",
    "        no_model_embedding_1 = F.normalize(mel_tensor_1.flatten().unsqueeze(0), p=2, dim=1)\n",
    "        no_model_embedding_2 = F.normalize(mel_tensor_2.flatten().unsqueeze(0), p=2, dim=1)\n",
    "\n",
    "    euclidean_distance = torch.dist(embedding_1, embedding_2).item()\n",
    "    #cosine_similarity = F.cosine_similarity(embedding_1, embedding_2).item()\n",
    "    return euclidean_distance\n",
    "\n",
    "def get_label(row, threshold=0.5):\n",
    "    if row['euclidean_distance'] > threshold:\n",
    "        return 1\n",
    "    else:\n",
    "        return 0"
   ]
  },
  {
   "cell_type": "code",
   "execution_count": 94,
   "metadata": {},
   "outputs": [
    {
     "data": {
      "text/html": [
       "<div>\n",
       "<style scoped>\n",
       "    .dataframe tbody tr th:only-of-type {\n",
       "        vertical-align: middle;\n",
       "    }\n",
       "\n",
       "    .dataframe tbody tr th {\n",
       "        vertical-align: top;\n",
       "    }\n",
       "\n",
       "    .dataframe thead th {\n",
       "        text-align: right;\n",
       "    }\n",
       "</style>\n",
       "<table border=\"1\" class=\"dataframe\">\n",
       "  <thead>\n",
       "    <tr style=\"text-align: right;\">\n",
       "      <th></th>\n",
       "      <th>song_title_1</th>\n",
       "      <th>artist_1</th>\n",
       "      <th>album_1</th>\n",
       "      <th>song_1</th>\n",
       "      <th>song_title_2</th>\n",
       "      <th>artist_2</th>\n",
       "      <th>album_2</th>\n",
       "      <th>song_2</th>\n",
       "      <th>label</th>\n",
       "    </tr>\n",
       "  </thead>\n",
       "  <tbody>\n",
       "    <tr>\n",
       "      <th>0</th>\n",
       "      <td>Claudette</td>\n",
       "      <td>everly_brothers</td>\n",
       "      <td>The_Fabulous_Style_of</td>\n",
       "      <td>[[-49.7658, -50.9627, -44.81154, -38.146698, -...</td>\n",
       "      <td>Claudette</td>\n",
       "      <td>everly_brothers</td>\n",
       "      <td>The_Fabulous_Style_of</td>\n",
       "      <td>[[-26.068644, -23.991093, -23.518074, -26.1214...</td>\n",
       "      <td>1</td>\n",
       "    </tr>\n",
       "    <tr>\n",
       "      <th>1</th>\n",
       "      <td>Claudette</td>\n",
       "      <td>everly_brothers</td>\n",
       "      <td>The_Fabulous_Style_of</td>\n",
       "      <td>[[-49.7658, -50.9627, -44.81154, -38.146698, -...</td>\n",
       "      <td>12-Day_Tripper</td>\n",
       "      <td>/Users/reggiebain/erdos/song-similarity-erdos/...</td>\n",
       "      <td>1</td>\n",
       "      <td>[[-39.67006, -36.35625, -30.621237, -25.635677...</td>\n",
       "      <td>0</td>\n",
       "    </tr>\n",
       "  </tbody>\n",
       "</table>\n",
       "</div>"
      ],
      "text/plain": [
       "  song_title_1         artist_1                album_1  \\\n",
       "0    Claudette  everly_brothers  The_Fabulous_Style_of   \n",
       "1    Claudette  everly_brothers  The_Fabulous_Style_of   \n",
       "\n",
       "                                              song_1    song_title_2  \\\n",
       "0  [[-49.7658, -50.9627, -44.81154, -38.146698, -...       Claudette   \n",
       "1  [[-49.7658, -50.9627, -44.81154, -38.146698, -...  12-Day_Tripper   \n",
       "\n",
       "                                            artist_2                album_2  \\\n",
       "0                                    everly_brothers  The_Fabulous_Style_of   \n",
       "1  /Users/reggiebain/erdos/song-similarity-erdos/...                      1   \n",
       "\n",
       "                                              song_2  label  \n",
       "0  [[-26.068644, -23.991093, -23.518074, -26.1214...      1  \n",
       "1  [[-39.67006, -36.35625, -30.621237, -25.635677...      0  "
      ]
     },
     "execution_count": 94,
     "metadata": {},
     "output_type": "execute_result"
    }
   ],
   "source": [
    "# Load dataframe we made for deployment\n",
    "deploy_df = pd.read_pickle('../data/paired_songs_spectrograms_test.pkl')\n",
    "deploy_df.head(2)"
   ]
  },
  {
   "cell_type": "code",
   "execution_count": 101,
   "metadata": {},
   "outputs": [
    {
     "name": "stderr",
     "output_type": "stream",
     "text": [
      "Computing Distances...:   0%|          | 0/154 [00:00<?, ?it/s]"
     ]
    },
    {
     "name": "stderr",
     "output_type": "stream",
     "text": [
      "Computing Distances...: 100%|██████████| 154/154 [02:28<00:00,  1.04it/s]\n"
     ]
    }
   ],
   "source": [
    "tqdm.pandas(desc=f\"Computing Distances...\")\n",
    "deploy_df['euclidean_distance'] = deploy_df.progress_apply(lambda row: compute_distance(model, row), axis=1)"
   ]
  },
  {
   "cell_type": "code",
   "execution_count": 103,
   "metadata": {},
   "outputs": [
    {
     "name": "stdout",
     "output_type": "stream",
     "text": [
      "Mean Distance of Covers: 0.6142864316314846\n",
      "Mean Distance of NOT Covers: 0.6165727419512612\n",
      "Mean Sim of Covers: 0.4769582152366638\n",
      "Mean Sim of NOT Covers: 0.4769582152366638\n"
     ]
    }
   ],
   "source": [
    "# Compare means of means based on label\n",
    "print(f\"Mean Distance of Covers: {deploy_df[deploy_df.label == 1].euclidean_distance.mean()}\")\n",
    "print(f\"Mean Distance of NOT Covers: {deploy_df[deploy_df.label == 0].euclidean_distance.mean()}\")\n",
    "print(f\"Mean Sim of Covers: {deploy_df[deploy_df.label == 1].cosine_similarity.mean()}\")\n",
    "print(f\"Mean Sim of NOT Covers: {deploy_df[deploy_df.label == 0].cosine_similarity.mean()}\")"
   ]
  },
  {
   "cell_type": "code",
   "execution_count": 104,
   "metadata": {},
   "outputs": [],
   "source": [
    "tqdm.pandas(desc=f\"Getting Labels using mean threshold...\")\n",
    "deploy_df['deploy_label'] = deploy_df.apply(lambda row: get_label(row, threshold=deploy_df['euclidean_distance'].mean()), axis=1) "
   ]
  },
  {
   "cell_type": "code",
   "execution_count": null,
   "metadata": {},
   "outputs": [
    {
     "data": {
      "image/png": "[encoded data removed]",
      "text/plain": [
       "<Figure size 800x400 with 2 Axes>"
      ]
     },
     "metadata": {},
     "output_type": "display_data"
    }
   ],
   "source": [
    "fig, axes = plt.subplots(1,2, figsize=(8,4))\n",
    "sns.histplot(data=deploy_df, x='euclidean_distance', hue='label', ax=axes[0])\n",
    "sns.histplot(data=deploy_df, x='euclidean_distance', hue='deploy_label', ax=axes[1])\n",
    "axes[0].legend(title='True Labels', labels=['Not Cover', 'Cover'])\n",
    "axes[1].legend(title='Model Labels', labels=['Not Cover', 'Cover'])\n",
    "plt.tight_layout()\n",
    "plt.savefig('../images/distances_by_label.png')\n",
    "plt.show()"
   ]
  },
  {
   "cell_type": "code",
   "execution_count": 106,
   "metadata": {},
   "outputs": [
    {
     "name": "stdout",
     "output_type": "stream",
     "text": [
      "Accuracy: 0.5195\n",
      "Precision: 0.5231\n",
      "F1 Score: 0.4789\n",
      "Recall: 0.44155844155844154\n"
     ]
    }
   ],
   "source": [
    "# Calculate accuracy, precision, recall, F1\n",
    "accuracy = accuracy_score(deploy_df['label'], deploy_df['deploy_label'])\n",
    "precision = precision_score(deploy_df['label'], deploy_df['deploy_label'])\n",
    "f1 = f1_score(deploy_df['label'], deploy_df['deploy_label'])\n",
    "recall = recall_score(deploy_df['label'], deploy_df['deploy_label'])\n",
    "\n",
    "# Print the results\n",
    "print(f'Accuracy: {accuracy:.4f}')\n",
    "print(f'Precision: {precision:.4f}')\n",
    "print(f'F1 Score: {f1:.4f}')\n",
    "print(f\"Recall: {recall}\")\n"
   ]
  },
  {
   "cell_type": "markdown",
   "metadata": {},
   "source": [
    "### Try Nearest Neighbor Accuracy and other Triplet Validation"
   ]
  },
  {
   "cell_type": "code",
   "execution_count": 107,
   "metadata": {},
   "outputs": [
    {
     "data": {
      "text/html": [
       "<div>\n",
       "<style scoped>\n",
       "    .dataframe tbody tr th:only-of-type {\n",
       "        vertical-align: middle;\n",
       "    }\n",
       "\n",
       "    .dataframe tbody tr th {\n",
       "        vertical-align: top;\n",
       "    }\n",
       "\n",
       "    .dataframe thead th {\n",
       "        text-align: right;\n",
       "    }\n",
       "</style>\n",
       "<table border=\"1\" class=\"dataframe\">\n",
       "  <thead>\n",
       "    <tr style=\"text-align: right;\">\n",
       "      <th></th>\n",
       "      <th>song_title</th>\n",
       "      <th>artist</th>\n",
       "      <th>album</th>\n",
       "      <th>song</th>\n",
       "      <th>anchors</th>\n",
       "      <th>positives</th>\n",
       "      <th>negatives</th>\n",
       "      <th>neg_song</th>\n",
       "      <th>neg_artist</th>\n",
       "      <th>neg_album</th>\n",
       "    </tr>\n",
       "  </thead>\n",
       "  <tbody>\n",
       "    <tr>\n",
       "      <th>0</th>\n",
       "      <td>Claudette</td>\n",
       "      <td>everly_brothers</td>\n",
       "      <td>The_Fabulous_Style_of</td>\n",
       "      <td>01-Claudette</td>\n",
       "      <td>[[-80.0, -80.0, -80.0, -80.0, -80.0, -80.0, -8...</td>\n",
       "      <td>[[-80.0, -80.0, -80.0, -61.775627, -48.010227,...</td>\n",
       "      <td>[[-80.0, -80.0, -80.0, -80.0, -76.417206, -74....</td>\n",
       "      <td>03-Addicted_To_Love</td>\n",
       "      <td>/Users/reggiebain/erdos/song-similarity-erdos/...</td>\n",
       "      <td>Riptide</td>\n",
       "    </tr>\n",
       "    <tr>\n",
       "      <th>1</th>\n",
       "      <td>I_Don_t_Want_To_Miss_A_Thing</td>\n",
       "      <td>aerosmith</td>\n",
       "      <td>Armageddon_Original_Soundtrack_</td>\n",
       "      <td>01-I_Don_t_Want_To_Miss_A_Thing</td>\n",
       "      <td>[[-80.0, -80.0, -80.0, -79.25159, -56.510735, ...</td>\n",
       "      <td>[[-80.0, -80.0, -80.0, -80.0, -80.0, -80.0, -8...</td>\n",
       "      <td>[[-80.0, -80.0, -80.0, -80.0, -80.0, -80.0, -8...</td>\n",
       "      <td>09-Summertime_Blues</td>\n",
       "      <td>/Users/reggiebain/erdos/song-similarity-erdos/...</td>\n",
       "      <td>Surfin_USA_Surfin_Safari</td>\n",
       "    </tr>\n",
       "  </tbody>\n",
       "</table>\n",
       "</div>"
      ],
      "text/plain": [
       "                     song_title           artist  \\\n",
       "0                     Claudette  everly_brothers   \n",
       "1  I_Don_t_Want_To_Miss_A_Thing        aerosmith   \n",
       "\n",
       "                             album                             song  \\\n",
       "0            The_Fabulous_Style_of                     01-Claudette   \n",
       "1  Armageddon_Original_Soundtrack_  01-I_Don_t_Want_To_Miss_A_Thing   \n",
       "\n",
       "                                             anchors  \\\n",
       "0  [[-80.0, -80.0, -80.0, -80.0, -80.0, -80.0, -8...   \n",
       "1  [[-80.0, -80.0, -80.0, -79.25159, -56.510735, ...   \n",
       "\n",
       "                                           positives  \\\n",
       "0  [[-80.0, -80.0, -80.0, -61.775627, -48.010227,...   \n",
       "1  [[-80.0, -80.0, -80.0, -80.0, -80.0, -80.0, -8...   \n",
       "\n",
       "                                           negatives             neg_song  \\\n",
       "0  [[-80.0, -80.0, -80.0, -80.0, -76.417206, -74....  03-Addicted_To_Love   \n",
       "1  [[-80.0, -80.0, -80.0, -80.0, -80.0, -80.0, -8...  09-Summertime_Blues   \n",
       "\n",
       "                                          neg_artist                 neg_album  \n",
       "0  /Users/reggiebain/erdos/song-similarity-erdos/...                   Riptide  \n",
       "1  /Users/reggiebain/erdos/song-similarity-erdos/...  Surfin_USA_Surfin_Safari  "
      ]
     },
     "execution_count": 107,
     "metadata": {},
     "output_type": "execute_result"
    }
   ],
   "source": [
    "# Load the original test files with triplets\n",
    "triplet_df = pd.read_pickle('/Users/reggiebain/erdos/song-similarity-erdos/data/test_set_covers.pkl')\n",
    "triplet_df.head(2)"
   ]
  },
  {
   "cell_type": "code",
   "execution_count": 114,
   "metadata": {},
   "outputs": [],
   "source": [
    "# Find if positive or negative sample is closer. 1 if pos closer 0 if not.\n",
    "def find_closer_neighbor(row):\n",
    "    anchor, positive, negative = row['anchors'], row['positives'], row['negatives']\n",
    "\n",
    "    # Assuming the input for deployment is already a mel spec y values\n",
    "    anchor_tensor = torch.tensor(anchor, dtype=torch.float32).unsqueeze(0).unsqueeze(0).to(device)\n",
    "    positive_tensor = torch.tensor(positive, dtype=torch.float32).unsqueeze(0).unsqueeze(0).to(device)\n",
    "    negative_tensor = torch.tensor(negative, dtype=torch.float32).unsqueeze(0).unsqueeze(0).to(device)\n",
    "    \n",
    "    with torch.no_grad():\n",
    "        anchor_embedding = model(anchor_tensor)\n",
    "        positive_embedding = model(positive_tensor)\n",
    "        negative_embedding = model(negative_tensor)\n",
    "\n",
    "    anchor_positive_dist = torch.dist(anchor_embedding, positive_embedding).item()\n",
    "    anchor_negative_dist = torch.dist(anchor_embedding, negative_embedding).item()\n",
    "    #cosine_similarity = F.cosine_similarity(embedding_1, embedding_2).item()\n",
    "    \n",
    "    closer_neighbor = 1 if anchor_positive_dist > anchor_negative_dist else 0\n",
    "    return closer_neighbor\n",
    "\n",
    "# Calculate the accuracy given a column\n",
    "def get_nn_accuracy(df):\n",
    "    return df['closer_neighbor'].mean()    \n",
    "\n",
    "# Calculate baseline accuracy by randomly guessing\n",
    "def get_baseline_nn_accuracy(df):\n",
    "    random_guesses = np.random.choice([0, 1], size=len(df))\n",
    "    baseline_accuracy = (df['closer_neighbor'] == random_guesses).mean()\n",
    "    return baseline_accuracy\n",
    "\n",
    "def get_pct_improve(nn, baseline):\n",
    "    return (nn - baseline)/baseline * 100"
   ]
  },
  {
   "cell_type": "code",
   "execution_count": 116,
   "metadata": {},
   "outputs": [
    {
     "name": "stderr",
     "output_type": "stream",
     "text": [
      "Calculating triplet inner products...:   0%|          | 0/77 [00:00<?, ?it/s]"
     ]
    },
    {
     "name": "stderr",
     "output_type": "stream",
     "text": [
      "Calculating triplet inner products...: 100%|██████████| 77/77 [07:21<00:00,  5.74s/it]\n"
     ]
    }
   ],
   "source": [
    "tqdm.pandas(desc=f\"Calculating triplet inner products...\")\n",
    "triplet_df['closer_neighbor'] = triplet_df.progress_apply(lambda row: find_closer_neighbor(row), axis=1)\n",
    "nn_accuracy = get_nn_accuracy(triplet_df)\n",
    "baseline_accuracy = get_baseline_nn_accuracy(triplet_df)\n",
    "pct_improve = get_pct_improve(nn_accuracy, baseline_accuracy)"
   ]
  },
  {
   "cell_type": "code",
   "execution_count": 117,
   "metadata": {},
   "outputs": [
    {
     "name": "stdout",
     "output_type": "stream",
     "text": [
      "Nearest Neighbor Accuracy: 38.9610%\n",
      "Baseline Accuracy: 45.4545%\n",
      "Model % Improvement: -14.2857%\n"
     ]
    }
   ],
   "source": [
    "print(f\"Nearest Neighbor Accuracy: {nn_accuracy*100:.4f}%\")\n",
    "print(f\"Baseline Accuracy: {baseline_accuracy*100:.4f}%\")\n",
    "print(f\"Model % Improvement: {pct_improve:.4f}%\")"
   ]
  },
  {
   "cell_type": "markdown",
   "metadata": {},
   "source": [
    "### Search Spotify for Track to Analyze"
   ]
  },
  {
   "cell_type": "code",
   "execution_count": 5,
   "metadata": {},
   "outputs": [],
   "source": [
    "# Load stuff from .env file\n",
    "env_vars = dotenv_values('.env')\n",
    "\n",
    "client_credentials_manager = SpotifyClientCredentials(\n",
    "    client_id=os.getenv(\"SPOTIFY_CLIENT_ID\"),\n",
    "    client_secret=os.getenv(\"SPOTIFY_CLIENT_SECRET\"),\n",
    ")\n",
    "# Get Spotify api client and apply to df\n",
    "sp = spotipy.Spotify(client_credentials_manager=client_credentials_manager)"
   ]
  },
  {
   "cell_type": "code",
   "execution_count": 6,
   "metadata": {},
   "outputs": [],
   "source": [
    "# Function to get the preview URL of a song based on artist name and song title\n",
    "#@retry(wait=wait_exponential(multiplier=1, min=4, max=60), stop=stop_after_attempt(10))\n",
    "def search_track(artist_name, track_name, sp, rate_limit = 1.0):\n",
    "    # Search for the track\n",
    "    result = sp.search(q=f'artist:{artist_name} track:{track_name}', type='track', limit=1)\n",
    "    if result['tracks']['items']:\n",
    "        # Return the preview URL if found\n",
    "        return result['tracks']['items'][0]['preview_url']\n",
    "    print('Arist/Track not found...')\n",
    "    return None    "
   ]
  },
  {
   "cell_type": "code",
   "execution_count": 9,
   "metadata": {},
   "outputs": [],
   "source": [
    "track1_name = 'Under Pressure'\n",
    "track1_artist = 'Bowie'\n",
    "track2_name = 'Rosanna'\n",
    "track2_artist = 'Toto'\n",
    "track1 = search_track(track1_artist, track1_name, sp)\n",
    "track2 = search_track(track1_artist, track1_name, sp)"
   ]
  },
  {
   "cell_type": "code",
   "execution_count": 30,
   "metadata": {},
   "outputs": [],
   "source": [
    "artist_name = 'Robin Thicke'\n",
    "track_name = 'Surfin USA'\n",
    "#result = sp.search(q=f'artist:{artist_name} track:{track_name}', type='track', limit=1)\n",
    "result = sp.search(q=f'track:{track_name}', type='track', limit=1)\n",
    "preview = None\n",
    "for item in result['tracks']['items']:\n",
    "    if item['preview_url'] is not None:\n",
    "        preview = item['preview_url']\n",
    "        break\n",
    "preview   \n",
    "    "
   ]
  }
 ],
 "metadata": {
  "kernelspec": {
   "display_name": "erdos_may_2024",
   "language": "python",
   "name": "python3"
  },
  "language_info": {
   "codemirror_mode": {
    "name": "ipython",
    "version": 3
   },
   "file_extension": ".py",
   "mimetype": "text/x-python",
   "name": "python",
   "nbconvert_exporter": "python",
   "pygments_lexer": "ipython3",
   "version": "3.11.9"
  }
 },
 "nbformat": 4,
 "nbformat_minor": 2
}
